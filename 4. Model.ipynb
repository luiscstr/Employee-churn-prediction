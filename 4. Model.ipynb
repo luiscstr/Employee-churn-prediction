{
 "cells": [
  {
   "cell_type": "code",
   "execution_count": 1,
   "id": "c7919561",
   "metadata": {},
   "outputs": [
    {
     "name": "stderr",
     "output_type": "stream",
     "text": [
      "Using TensorFlow backend.\n"
     ]
    }
   ],
   "source": [
    "#Importing libraries\n",
    "import pandas as pd\n",
    "import numpy as np\n",
    "import seaborn as sns\n",
    "import matplotlib.pyplot as plt\n",
    "from sklearn.preprocessing import OneHotEncoder,MinMaxScaler\n",
    "from sklearn.model_selection import train_test_split,StratifiedShuffleSplit,cross_val_score,cross_val_predict,KFold, StratifiedKFold,GridSearchCV,RandomizedSearchCV\n",
    "from sklearn.compose import ColumnTransformer\n",
    "from sklearn.linear_model import LogisticRegression\n",
    "from sklearn.metrics import accuracy_score,confusion_matrix, classification_report, precision_recall_curve\n",
    "from sklearn.ensemble import RandomForestClassifier\n",
    "from imblearn.over_sampling import SMOTE,ADASYN,RandomOverSampler,BorderlineSMOTE,SVMSMOTE,SMOTENC\n",
    "from imblearn.under_sampling import RandomUnderSampler,TomekLinks\n",
    "from imblearn.combine import SMOTETomek,SMOTEENN\n",
    "from imblearn.pipeline import Pipeline\n",
    "from xgboost import XGBClassifier\n",
    "import pickle\n",
    "import tensorflow as tf\n",
    "from tensorflow import keras\n",
    "import warnings\n",
    "import sklearn.exceptions\n",
    "warnings.filterwarnings(\"ignore\", category=sklearn.exceptions.UndefinedMetricWarning)"
   ]
  },
  {
   "cell_type": "code",
   "execution_count": 2,
   "id": "46a4854c",
   "metadata": {},
   "outputs": [],
   "source": [
    "configuration = tf.compat.v1.ConfigProto()\n",
    "configuration.gpu_options.allow_growth = True\n",
    "session = tf.compat.v1.Session(config=configuration)"
   ]
  },
  {
   "cell_type": "code",
   "execution_count": 3,
   "id": "8a512468",
   "metadata": {},
   "outputs": [],
   "source": [
    "import warnings\n",
    "import sklearn.exceptions\n",
    "warnings.filterwarnings(\"ignore\", category=sklearn.exceptions.UndefinedMetricWarning)"
   ]
  },
  {
   "cell_type": "code",
   "execution_count": 4,
   "id": "2c74fc0a",
   "metadata": {},
   "outputs": [],
   "source": [
    "file_path='C:/Users/lcast/Desktop/DS/GitHub/Employee-churn-predtion/Data/'\n",
    "\n",
    "Train_df=pd.read_pickle(file_path+ 'Train_df_prepro.pkl')\n",
    "Test_df=pd.read_pickle(file_path+ 'Test_df_prepro.pkl')"
   ]
  },
  {
   "cell_type": "code",
   "execution_count": 5,
   "id": "b74e3046",
   "metadata": {},
   "outputs": [],
   "source": [
    "X_train=Train_df.drop(['Attrition'],axis=1)\n",
    "y_train=Train_df['Attrition']\n",
    "X_test=Test_df.drop(['Attrition'],axis=1)\n",
    "y_test=Test_df['Attrition']"
   ]
  },
  {
   "cell_type": "code",
   "execution_count": null,
   "id": "0eac18f4",
   "metadata": {},
   "outputs": [],
   "source": [
    "## 4. MODEL"
   ]
  },
  {
   "cell_type": "code",
   "execution_count": null,
   "id": "b9429eea",
   "metadata": {},
   "outputs": [],
   "source": [
    "### 4.1 Logistic Classifier"
   ]
  },
  {
   "cell_type": "code",
   "execution_count": 292,
   "id": "339c2696",
   "metadata": {},
   "outputs": [],
   "source": [
    "logreg=LogisticRegression(solver='lbfgs')"
   ]
  },
  {
   "cell_type": "code",
   "execution_count": 209,
   "id": "a83c9224",
   "metadata": {},
   "outputs": [
    {
     "name": "stdout",
     "output_type": "stream",
     "text": [
      "Accuracy 88.10 %\n"
     ]
    }
   ],
   "source": [
    "scores=cross_val_score(logreg,X_train,y_train,scoring='accuracy',cv=5)\n",
    "print('Accuracy {:.2f} %'.format(100*scores.mean()))"
   ]
  },
  {
   "cell_type": "code",
   "execution_count": 293,
   "id": "356b8404",
   "metadata": {},
   "outputs": [],
   "source": [
    "y_pred=cross_val_predict(logreg, X_train, y_train, cv=5)"
   ]
  },
  {
   "cell_type": "code",
   "execution_count": 294,
   "id": "f6f40bf4",
   "metadata": {},
   "outputs": [
    {
     "data": {
      "text/plain": [
       "<AxesSubplot:>"
      ]
     },
     "execution_count": 294,
     "metadata": {},
     "output_type": "execute_result"
    },
    {
     "data": {
      "image/png": "[encoded data removed]",
      "text/plain": [
       "<Figure size 432x288 with 2 Axes>"
      ]
     },
     "metadata": {
      "needs_background": "light"
     },
     "output_type": "display_data"
    }
   ],
   "source": [
    "cm=confusion_matrix(y_train,y_pred)\n",
    "sns.heatmap(cm,annot=True)"
   ]
  },
  {
   "cell_type": "code",
   "execution_count": 214,
   "id": "0a0077a7",
   "metadata": {},
   "outputs": [
    {
     "name": "stdout",
     "output_type": "stream",
     "text": [
      "              precision    recall  f1-score   support\n",
      "\n",
      "           0       0.89      0.98      0.93       986\n",
      "           1       0.78      0.37      0.50       190\n",
      "\n",
      "    accuracy                           0.88      1176\n",
      "   macro avg       0.83      0.67      0.72      1176\n",
      "weighted avg       0.87      0.88      0.86      1176\n",
      "\n"
     ]
    }
   ],
   "source": [
    "print(classification_report(y_train,y_pred))"
   ]
  },
  {
   "cell_type": "code",
   "execution_count": 297,
   "id": "7cf57abc",
   "metadata": {},
   "outputs": [
    {
     "data": {
      "text/plain": [
       "LogisticRegression(C=1.0, class_weight=None, dual=False, fit_intercept=True,\n",
       "                   intercept_scaling=1, l1_ratio=None, max_iter=100,\n",
       "                   multi_class='warn', n_jobs=None, penalty='l2',\n",
       "                   random_state=None, solver='lbfgs', tol=0.0001, verbose=0,\n",
       "                   warm_start=False)"
      ]
     },
     "execution_count": 297,
     "metadata": {},
     "output_type": "execute_result"
    }
   ],
   "source": [
    "logreg.fit(X_train,y_train)"
   ]
  },
  {
   "cell_type": "code",
   "execution_count": 298,
   "id": "c0736bc6",
   "metadata": {},
   "outputs": [],
   "source": [
    "y_pred=logreg.predict(X_test)"
   ]
  },
  {
   "cell_type": "code",
   "execution_count": 299,
   "id": "be754a6a",
   "metadata": {},
   "outputs": [
    {
     "name": "stdout",
     "output_type": "stream",
     "text": [
      "              precision    recall  f1-score   support\n",
      "\n",
      "           0       0.89      0.97      0.93       247\n",
      "           1       0.68      0.36      0.47        47\n",
      "\n",
      "    accuracy                           0.87       294\n",
      "   macro avg       0.78      0.66      0.70       294\n",
      "weighted avg       0.86      0.87      0.85       294\n",
      "\n"
     ]
    }
   ],
   "source": [
    "print(classification_report(y_test,y_pred))"
   ]
  },
  {
   "cell_type": "markdown",
   "id": "24d15e03",
   "metadata": {},
   "source": [
    "Precission of 68% for attrition (class 1) which mea6s that when the model identifies a postitive , in 68% of the cases it will be right (low rate of false positives). However the recall is low, only 37%, which means that the model is only able to identify correctly 36% of the employees that leave (high rate of false negatives). Let's take a look to the precision-recall curve:"
   ]
  },
  {
   "cell_type": "code",
   "execution_count": 300,
   "id": "0dda0515",
   "metadata": {},
   "outputs": [],
   "source": [
    "y_proba = cross_val_predict(logreg, X_train, y_train, cv=5, method='predict_proba')"
   ]
  },
  {
   "cell_type": "code",
   "execution_count": 301,
   "id": "d31c2354",
   "metadata": {},
   "outputs": [],
   "source": [
    "precisions,recalls,thresholds=precision_recall_curve(y_train,y_proba[:,1])"
   ]
  },
  {
   "cell_type": "code",
   "execution_count": 302,
   "id": "94330a9c",
   "metadata": {},
   "outputs": [
    {
     "data": {
      "image/png": "[encoded data removed]",
      "text/plain": [
       "<Figure size 432x288 with 1 Axes>"
      ]
     },
     "metadata": {
      "needs_background": "light"
     },
     "output_type": "display_data"
    }
   ],
   "source": [
    "plt.plot(thresholds,precisions[:-1],'b--',label='Precision')\n",
    "plt.plot(thresholds,recalls[:-1],'g-',label='Recall')\n",
    "plt.plot([0, 0.5], [0.37, 0.37],\"r:\")                               \n",
    "plt.plot([0, 0.5], [0.78, 0.78],\"r:\")\n",
    "plt.plot([0.5,0.5], [0, 0.78],\"r:\")\n",
    "plt.plot([0.5], [0.37], \"ro\")                                            \n",
    "plt.plot([0.5], [0.78], \"ro\")  \n",
    "plt.legend()\n",
    "plt.title('Precision-Recall vs decision threshold')\n",
    "plt.xlim(xmin=0) \n",
    "plt.ylim(ymin=0) \n",
    "plt.grid(which='both')\n",
    "plt.show()"
   ]
  },
  {
   "cell_type": "code",
   "execution_count": 303,
   "id": "f9168e17",
   "metadata": {},
   "outputs": [
    {
     "data": {
      "text/plain": [
       "(0.0, 1.0418118466898956)"
      ]
     },
     "execution_count": 303,
     "metadata": {},
     "output_type": "execute_result"
    },
    {
     "data": {
      "image/png": "[encoded data removed]",
      "text/plain": [
       "<Figure size 432x288 with 1 Axes>"
      ]
     },
     "metadata": {
      "needs_background": "light"
     },
     "output_type": "display_data"
    }
   ],
   "source": [
    "#Precision recall curve\n",
    "plt.plot(recalls,precisions,'b--')\n",
    "plt.title('Precision-Recall curve')\n",
    "plt.ylabel('Precision')\n",
    "plt.xlabel('Recall')\n",
    "plt.xlim(xmin=0) \n",
    "plt.ylim(ymin=0) "
   ]
  },
  {
   "cell_type": "markdown",
   "id": "7fefb3dc",
   "metadata": {},
   "source": [
    "The Precision-Recall curve ilustrates perfectly the precision/recall trade off. We can see that the precission starts to fall sharply around a 20% recall and if we want to obtain a recall of 50%, the precission will fall to a value of aroung 60%.\n",
    "\n",
    "We can tweak the precision and recall of the classifier, by modifyig the threshold of 0.5 used to decide the class (attrition in this case). For example, let's see what happens if we set a threshold of 0.4 and a threshold of 0.2:"
   ]
  },
  {
   "cell_type": "code",
   "execution_count": 304,
   "id": "7928bc95",
   "metadata": {},
   "outputs": [],
   "source": [
    "y_pred_04=(y_proba[:,1]>0.4).astype(int)\n",
    "y_pred_02=(y_proba[:,1]>0.2).astype(int)"
   ]
  },
  {
   "cell_type": "code",
   "execution_count": 305,
   "id": "8b11f381",
   "metadata": {},
   "outputs": [
    {
     "name": "stdout",
     "output_type": "stream",
     "text": [
      "              precision    recall  f1-score   support\n",
      "\n",
      "           0       0.91      0.96      0.94       986\n",
      "           1       0.71      0.53      0.61       190\n",
      "\n",
      "    accuracy                           0.89      1176\n",
      "   macro avg       0.81      0.74      0.77      1176\n",
      "weighted avg       0.88      0.89      0.88      1176\n",
      "\n",
      "              precision    recall  f1-score   support\n",
      "\n",
      "           0       0.94      0.81      0.87       986\n",
      "           1       0.42      0.72      0.53       190\n",
      "\n",
      "    accuracy                           0.79      1176\n",
      "   macro avg       0.68      0.76      0.70      1176\n",
      "weighted avg       0.85      0.79      0.81      1176\n",
      "\n"
     ]
    }
   ],
   "source": [
    "print(classification_report(y_train,y_pred_04))\n",
    "print(classification_report(y_train,y_pred_02))"
   ]
  },
  {
   "cell_type": "markdown",
   "id": "4ff70de2",
   "metadata": {},
   "source": [
    "We could ask HR department what is they preference:\n",
    "\n",
    "- to be more certain that the employees classified as 'leavers' by the model are more likely to leave but accepting that there are many 'leavers' 'leaver' employees  that have not been classified as such( high precision and low recall). In other words, less employers are classified as leavers but higher percentage ot them are true \"leavers\" (less false positives at the expense of having more false negatives).\n",
    "- to be more certain that the classifier is not missing employees that are more likely to leave at the expense of not being able to identify which of them are true \"leavers\" (low precision and high recall). In other words, more employees are classified as 'leavers' but a higher percentage of them are not true 'leavers' (less false negatives but more false positives)"
   ]
  },
  {
   "cell_type": "markdown",
   "id": "5f6c9fa5",
   "metadata": {},
   "source": [
    "To try to improve the results, we next will tune the hyperparameters of the classifier by performing a Gridsearch. We will use several scores and refit for both AUC and f1 scores:"
   ]
  },
  {
   "cell_type": "code",
   "execution_count": 306,
   "id": "66873c9d",
   "metadata": {},
   "outputs": [
    {
     "data": {
      "text/plain": [
       "GridSearchCV(cv=StratifiedKFold(n_splits=5, random_state=42, shuffle=True),\n",
       "             error_score='raise-deprecating',\n",
       "             estimator=LogisticRegression(C=1.0, class_weight=None, dual=False,\n",
       "                                          fit_intercept=True,\n",
       "                                          intercept_scaling=1, l1_ratio=None,\n",
       "                                          max_iter=100, multi_class='warn',\n",
       "                                          n_jobs=None, penalty='l2',\n",
       "                                          random_state=None, solver='lbfgs',\n",
       "                                          tol=0.0001, verbose=0,\n",
       "                                          warm_start=False),\n",
       "             iid='warn', n_jobs=None,\n",
       "             param_grid={'C': [0.001, 0.01, 0.1, 1, 10, 100], 'max_iter': [500],\n",
       "                         'penalty': ['l2'], 'solver': ['liblinear', 'lbfgs']},\n",
       "             pre_dispatch='2*n_jobs', refit='AUC', return_train_score='True',\n",
       "             scoring={'AUC': 'roc_auc', 'Accuracy': 'accuracy',\n",
       "                      'Precision': 'precision', 'Recall': 'recall',\n",
       "                      'f1': 'f1'},\n",
       "             verbose=0)"
      ]
     },
     "execution_count": 306,
     "metadata": {},
     "output_type": "execute_result"
    }
   ],
   "source": [
    "#Gridsearch AUC\n",
    "scoring = {'AUC': 'roc_auc', 'Precision': 'precision', 'Recall':'recall','Accuracy':'accuracy','f1':'f1'}\n",
    "params = {'solver':['liblinear','lbfgs'],'penalty': ['l2' ],'C': [0.001,0.01,0.1,1,10,100],'max_iter':[500]}\n",
    "kf = StratifiedKFold(n_splits=5,shuffle=True,random_state=42) \n",
    "\n",
    "grid_logreg_auc = GridSearchCV(logreg, params, cv=kf,scoring=scoring,return_train_score='True',refit='AUC')\n",
    "grid_logreg_auc.fit(X_train,y_train)\n"
   ]
  },
  {
   "cell_type": "code",
   "execution_count": 307,
   "id": "6a74bfa7",
   "metadata": {},
   "outputs": [
    {
     "data": {
      "text/plain": [
       "{'C': 1, 'max_iter': 500, 'penalty': 'l2', 'solver': 'lbfgs'}"
      ]
     },
     "execution_count": 307,
     "metadata": {},
     "output_type": "execute_result"
    }
   ],
   "source": [
    "grid_logreg_auc.best_params_"
   ]
  },
  {
   "cell_type": "code",
   "execution_count": 308,
   "id": "1f04b7f5",
   "metadata": {},
   "outputs": [],
   "source": [
    "y_pred=grid_logreg_auc.predict(X_test)"
   ]
  },
  {
   "cell_type": "code",
   "execution_count": 309,
   "id": "a6ed16d1",
   "metadata": {},
   "outputs": [
    {
     "data": {
      "text/plain": [
       "<AxesSubplot:>"
      ]
     },
     "execution_count": 309,
     "metadata": {},
     "output_type": "execute_result"
    },
    {
     "data": {
      "image/png": "[encoded data removed]",
      "text/plain": [
       "<Figure size 432x288 with 2 Axes>"
      ]
     },
     "metadata": {
      "needs_background": "light"
     },
     "output_type": "display_data"
    }
   ],
   "source": [
    "cm=confusion_matrix(y_test,y_pred)\n",
    "sns.heatmap(cm,annot=True)"
   ]
  },
  {
   "cell_type": "code",
   "execution_count": 310,
   "id": "56a74d29",
   "metadata": {},
   "outputs": [
    {
     "name": "stdout",
     "output_type": "stream",
     "text": [
      "              precision    recall  f1-score   support\n",
      "\n",
      "           0       0.89      0.97      0.93       247\n",
      "           1       0.68      0.36      0.47        47\n",
      "\n",
      "    accuracy                           0.87       294\n",
      "   macro avg       0.78      0.66      0.70       294\n",
      "weighted avg       0.86      0.87      0.85       294\n",
      "\n"
     ]
    }
   ],
   "source": [
    "print(classification_report(y_test,y_pred))"
   ]
  },
  {
   "cell_type": "code",
   "execution_count": 311,
   "id": "dc16509d",
   "metadata": {},
   "outputs": [
    {
     "name": "stdout",
     "output_type": "stream",
     "text": [
      "              precision    recall  f1-score   support\n",
      "\n",
      "           0       0.89      0.95      0.92       247\n",
      "           1       0.59      0.36      0.45        47\n",
      "\n",
      "    accuracy                           0.86       294\n",
      "   macro avg       0.74      0.66      0.68       294\n",
      "weighted avg       0.84      0.86      0.84       294\n",
      "\n"
     ]
    }
   ],
   "source": [
    "#GridSearch f1\n",
    "scoring = {'AUC': 'roc_auc', 'Precision': 'precision', 'Recall':'recall','Accuracy':'accuracy','f1':'f1'}\n",
    "params = {'solver':['liblinear','lbfgs'],'penalty': ['l2' ],'C': [0.001,0.01,0.1,1,10,100],'max_iter':[500]}\n",
    "kf = StratifiedKFold(n_splits=5,shuffle=True,random_state=42) \n",
    "\n",
    "grid = GridSearchCV(logreg, params, cv=kf,scoring=scoring,return_train_score='True',refit='f1')\n",
    "grid.fit(X_train,y_train)\n",
    "y_pred=grid.predict(X_test)\n",
    "print(classification_report(y_test,y_pred))"
   ]
  },
  {
   "cell_type": "markdown",
   "id": "7fce72ec",
   "metadata": {},
   "source": [
    "We have not been able to improve the model with the parameter tunning. Before moving onto a different classifier, we can explore some ampling techniques. In particular, we will try Randon Over Sampling, Synthetic Minority Oversampling Technique (SMOTE) and SMOTE Tomek."
   ]
  },
  {
   "cell_type": "code",
   "execution_count": 312,
   "id": "b3d2e911",
   "metadata": {},
   "outputs": [],
   "source": [
    "with open('C:/Users/lcast/Desktop/DS/GitHub/Employee-churn-predtion/Models/logistic_class_tunned.pkl', 'wb') as f:\n",
    "    pickle.dump(grid, f)"
   ]
  },
  {
   "cell_type": "code",
   "execution_count": 313,
   "id": "43d3d0d7",
   "metadata": {},
   "outputs": [],
   "source": [
    "##Random Over Sampling\n",
    "ros=RandomOverSampler(random_state=2,sampling_strategy='minority')\n",
    "sm = SMOTE(random_state=2)\n",
    "##Synthetic Minority Oversampling Technique (SMOTE)\n",
    "#Combining over- and under-sampling.\n",
    "#SMOTE Tomek\n",
    "smt = SMOTETomek(ratio='auto')"
   ]
  },
  {
   "cell_type": "code",
   "execution_count": 314,
   "id": "d1470f60",
   "metadata": {},
   "outputs": [
    {
     "name": "stdout",
     "output_type": "stream",
     "text": [
      "              precision    recall  f1-score   support\n",
      "\n",
      "           0       0.93      0.77      0.84       986\n",
      "           1       0.37      0.71      0.49       190\n",
      "\n",
      "    accuracy                           0.76      1176\n",
      "   macro avg       0.65      0.74      0.66      1176\n",
      "weighted avg       0.84      0.76      0.78      1176\n",
      "\n"
     ]
    }
   ],
   "source": [
    "logreg=LogisticRegression(solver='lbfgs')\n",
    "ros = RandomOverSampler(random_state=2,sampling_strategy='minority')\n",
    "steps = [('ros', ros), ('model', logreg)]\n",
    "pipeline = Pipeline(steps=steps)\n",
    "y_pred_ros=cross_val_predict(pipeline, X_train, y_train, cv=5)\n",
    "print(classification_report(y_train,y_pred_ros))"
   ]
  },
  {
   "cell_type": "code",
   "execution_count": 315,
   "id": "bac0d33a",
   "metadata": {},
   "outputs": [
    {
     "name": "stdout",
     "output_type": "stream",
     "text": [
      "              precision    recall  f1-score   support\n",
      "\n",
      "           0       0.94      0.78      0.85       986\n",
      "           1       0.39      0.73      0.51       190\n",
      "\n",
      "    accuracy                           0.77      1176\n",
      "   macro avg       0.66      0.75      0.68      1176\n",
      "weighted avg       0.85      0.77      0.80      1176\n",
      "\n"
     ]
    }
   ],
   "source": [
    "sm = SMOTE(random_state=2)\n",
    "steps = [('SMOTE', sm), ('model', logreg)]\n",
    "pipeline = Pipeline(steps=steps)\n",
    "y_pred_sm=cross_val_predict(pipeline, X_train, y_train, cv=5)\n",
    "print(classification_report(y_train,y_pred_sm))"
   ]
  },
  {
   "cell_type": "code",
   "execution_count": 316,
   "id": "12ef42bc",
   "metadata": {},
   "outputs": [
    {
     "name": "stdout",
     "output_type": "stream",
     "text": [
      "              precision    recall  f1-score   support\n",
      "\n",
      "           0       0.93      0.78      0.85       986\n",
      "           1       0.39      0.72      0.50       190\n",
      "\n",
      "    accuracy                           0.77      1176\n",
      "   macro avg       0.66      0.75      0.68      1176\n",
      "weighted avg       0.85      0.77      0.79      1176\n",
      "\n"
     ]
    }
   ],
   "source": [
    "sm = SMOTETomek(ratio='auto')\n",
    "steps = [('SMOTETomek', smt), ('model', logreg)]\n",
    "pipeline = Pipeline(steps=steps)\n",
    "y_pred_smt=cross_val_predict(pipeline, X_train, y_train, cv=5)\n",
    "print(classification_report(y_train,y_pred_smt))"
   ]
  },
  {
   "cell_type": "markdown",
   "id": "b9c49e0f",
   "metadata": {},
   "source": [
    "By oversampling, we are able to increase the recall of the minority class. "
   ]
  },
  {
   "cell_type": "markdown",
   "id": "6e7f8818",
   "metadata": {},
   "source": [
    "### 4.2. Random Forest"
   ]
  },
  {
   "cell_type": "code",
   "execution_count": 317,
   "id": "8f27e9a1",
   "metadata": {},
   "outputs": [
    {
     "name": "stdout",
     "output_type": "stream",
     "text": [
      "Accuracy 86.06 %\n"
     ]
    }
   ],
   "source": [
    "RFC=RandomForestClassifier(n_estimators=100)\n",
    "scores=cross_val_score(RFC,X_train,y_train,scoring='accuracy',cv=5)\n",
    "print('Accuracy {:.2f} %'.format(100*scores.mean()))"
   ]
  },
  {
   "cell_type": "code",
   "execution_count": 318,
   "id": "5b8adc7d",
   "metadata": {},
   "outputs": [
    {
     "data": {
      "text/plain": [
       "<AxesSubplot:>"
      ]
     },
     "execution_count": 318,
     "metadata": {},
     "output_type": "execute_result"
    },
    {
     "data": {
      "image/png": "[encoded data removed]",
      "text/plain": [
       "<Figure size 432x288 with 2 Axes>"
      ]
     },
     "metadata": {
      "needs_background": "light"
     },
     "output_type": "display_data"
    }
   ],
   "source": [
    "y_pred=cross_val_predict(RFC, X_train, y_train, cv=5)\n",
    "cm=confusion_matrix(y_train,y_pred)\n",
    "sns.heatmap(cm,annot=True)"
   ]
  },
  {
   "cell_type": "code",
   "execution_count": 320,
   "id": "22e39f59",
   "metadata": {},
   "outputs": [
    {
     "name": "stdout",
     "output_type": "stream",
     "text": [
      "              precision    recall  f1-score   support\n",
      "\n",
      "           0       0.86      0.99      0.92       986\n",
      "           1       0.79      0.18      0.29       190\n",
      "\n",
      "    accuracy                           0.86      1176\n",
      "   macro avg       0.83      0.58      0.61      1176\n",
      "weighted avg       0.85      0.86      0.82      1176\n",
      "\n"
     ]
    }
   ],
   "source": [
    "print(classification_report(y_train,y_pred))"
   ]
  },
  {
   "cell_type": "markdown",
   "id": "3a995e4a",
   "metadata": {},
   "source": [
    "Too low recall, Let's see if it can be imporved through the hypeparameter tunning:"
   ]
  },
  {
   "cell_type": "code",
   "execution_count": 321,
   "id": "a8cc3795",
   "metadata": {},
   "outputs": [
    {
     "name": "stderr",
     "output_type": "stream",
     "text": [
      "C:\\Users\\lcast\\Anaconda3\\lib\\site-packages\\sklearn\\model_selection\\_search.py:813: DeprecationWarning: The default of the `iid` parameter will change from True to False in version 0.22 and will be removed in 0.24. This will change numeric results when test-set sizes are unequal.\n",
      "  DeprecationWarning)\n"
     ]
    },
    {
     "data": {
      "text/plain": [
       "<AxesSubplot:>"
      ]
     },
     "execution_count": 321,
     "metadata": {},
     "output_type": "execute_result"
    },
    {
     "data": {
      "image/png": "[encoded data removed]",
      "text/plain": [
       "<Figure size 432x288 with 2 Axes>"
      ]
     },
     "metadata": {
      "needs_background": "light"
     },
     "output_type": "display_data"
    }
   ],
   "source": [
    "scoring = {'AUC': 'roc_auc', 'Precision': 'precision', 'Recall':'recall','Accuracy':'accuracy','f1':'f1'}\n",
    "params = {'max_depth': list(range(1, 20, 2)), 'n_estimators': list(range(1, 200, 20)),'max_features' : list(range(1,4,1))}\n",
    "kf = StratifiedKFold(n_splits=5,shuffle=True,random_state=42) \n",
    "\n",
    "grid_rfc_auc = GridSearchCV(RFC, params, cv=kf,scoring=scoring,return_train_score='True',refit='AUC')\n",
    "grid_rfc_auc.fit(X_train,y_train)\n",
    "\n",
    "y_pred=grid_rfc_auc.predict(X_test)\n",
    "\n",
    "cm=confusion_matrix(y_test,y_pred)\n",
    "sns.heatmap(cm,annot=True)"
   ]
  },
  {
   "cell_type": "code",
   "execution_count": 323,
   "id": "bd619f50",
   "metadata": {},
   "outputs": [
    {
     "name": "stdout",
     "output_type": "stream",
     "text": [
      "              precision    recall  f1-score   support\n",
      "\n",
      "           0       0.85      1.00      0.92       247\n",
      "           1       0.75      0.06      0.12        47\n",
      "\n",
      "    accuracy                           0.85       294\n",
      "   macro avg       0.80      0.53      0.52       294\n",
      "weighted avg       0.83      0.85      0.79       294\n",
      "\n"
     ]
    }
   ],
   "source": [
    "print(classification_report(y_test,y_pred))"
   ]
  },
  {
   "cell_type": "code",
   "execution_count": 327,
   "id": "463c5e7d",
   "metadata": {},
   "outputs": [
    {
     "name": "stderr",
     "output_type": "stream",
     "text": [
      "C:\\Users\\lcast\\Anaconda3\\lib\\site-packages\\sklearn\\model_selection\\_search.py:813: DeprecationWarning: The default of the `iid` parameter will change from True to False in version 0.22 and will be removed in 0.24. This will change numeric results when test-set sizes are unequal.\n",
      "  DeprecationWarning)\n"
     ]
    },
    {
     "data": {
      "text/plain": [
       "<AxesSubplot:>"
      ]
     },
     "execution_count": 327,
     "metadata": {},
     "output_type": "execute_result"
    },
    {
     "data": {
      "image/png": "[encoded data removed]",
      "text/plain": [
       "<Figure size 432x288 with 2 Axes>"
      ]
     },
     "metadata": {
      "needs_background": "light"
     },
     "output_type": "display_data"
    }
   ],
   "source": [
    "scoring = {'AUC': 'roc_auc', 'Precision': 'precision', 'Recall':'recall','Accuracy':'accuracy','f1':'f1'}\n",
    "params = {'max_depth': list(range(1, 20, 2)), 'n_estimators': list(range(1, 200, 20)),'max_features' : list(range(1,4,1))}\n",
    "kf = StratifiedKFold(n_splits=5,shuffle=True,random_state=42) \n",
    "\n",
    "grid_rfc_f1 = GridSearchCV(RFC, params, cv=kf,scoring=scoring,return_train_score='True',refit='f1')\n",
    "grid_rfc_f1.fit(X_train,y_train)\n",
    "\n",
    "y_pred=grid_rfc_f1.predict(X_test)\n",
    "\n",
    "cm=confusion_matrix(y_test,y_pred)\n",
    "sns.heatmap(cm,annot=True)"
   ]
  },
  {
   "cell_type": "code",
   "execution_count": 328,
   "id": "c4a63866",
   "metadata": {},
   "outputs": [
    {
     "name": "stdout",
     "output_type": "stream",
     "text": [
      "              precision    recall  f1-score   support\n",
      "\n",
      "           0       0.85      0.97      0.91       247\n",
      "           1       0.43      0.13      0.20        47\n",
      "\n",
      "    accuracy                           0.83       294\n",
      "   macro avg       0.64      0.55      0.55       294\n",
      "weighted avg       0.79      0.83      0.79       294\n",
      "\n"
     ]
    }
   ],
   "source": [
    "print(classification_report(y_test,y_pred))"
   ]
  },
  {
   "cell_type": "markdown",
   "id": "21759403",
   "metadata": {},
   "source": [
    "Not great results, are worse than the ones obtained with the logistic regression classifier. \n",
    "We can take a look to the features that have more impact in the attrition:"
   ]
  },
  {
   "cell_type": "code",
   "execution_count": 329,
   "id": "5b024e08",
   "metadata": {},
   "outputs": [
    {
     "data": {
      "text/plain": [
       "Text(0.5, 1.0, 'Feature Importance-RFC')"
      ]
     },
     "execution_count": 329,
     "metadata": {},
     "output_type": "execute_result"
    },
    {
     "data": {
      "image/png": "[encoded data removed]",
      "text/plain": [
       "<Figure size 1080x360 with 1 Axes>"
      ]
     },
     "metadata": {
      "needs_background": "light"
     },
     "output_type": "display_data"
    }
   ],
   "source": [
    "Feature_Importance=grid_rfc_auc.best_estimator_.feature_importances_ \n",
    "plt.figure(figsize=(15,5))\n",
    "plt.xticks(rotation='90')\n",
    "sns.barplot(x=X_train.columns, y=Feature_Importance)\n",
    "plt.xlabel('Features', fontsize=15)\n",
    "plt.ylabel('Importance', fontsize=15)\n",
    "plt.title('Feature Importance-RFC', fontsize=15)"
   ]
  },
  {
   "cell_type": "code",
   "execution_count": 330,
   "id": "83b2bef2",
   "metadata": {},
   "outputs": [
    {
     "data": {
      "text/html": [
       "<div>\n",
       "<style scoped>\n",
       "    .dataframe tbody tr th:only-of-type {\n",
       "        vertical-align: middle;\n",
       "    }\n",
       "\n",
       "    .dataframe tbody tr th {\n",
       "        vertical-align: top;\n",
       "    }\n",
       "\n",
       "    .dataframe thead th {\n",
       "        text-align: right;\n",
       "    }\n",
       "</style>\n",
       "<table border=\"1\" class=\"dataframe\">\n",
       "  <thead>\n",
       "    <tr style=\"text-align: right;\">\n",
       "      <th></th>\n",
       "      <th>0</th>\n",
       "    </tr>\n",
       "  </thead>\n",
       "  <tbody>\n",
       "    <tr>\n",
       "      <th>MonthlyIncome</th>\n",
       "      <td>0.063711</td>\n",
       "    </tr>\n",
       "    <tr>\n",
       "      <th>Age</th>\n",
       "      <td>0.059687</td>\n",
       "    </tr>\n",
       "    <tr>\n",
       "      <th>TotalWorkingYears</th>\n",
       "      <td>0.051183</td>\n",
       "    </tr>\n",
       "    <tr>\n",
       "      <th>YearsAtCompany</th>\n",
       "      <td>0.050642</td>\n",
       "    </tr>\n",
       "    <tr>\n",
       "      <th>DistanceFromHome</th>\n",
       "      <td>0.047767</td>\n",
       "    </tr>\n",
       "    <tr>\n",
       "      <th>YearsWithCurrManager</th>\n",
       "      <td>0.041322</td>\n",
       "    </tr>\n",
       "    <tr>\n",
       "      <th>PercentSalaryHike</th>\n",
       "      <td>0.039481</td>\n",
       "    </tr>\n",
       "    <tr>\n",
       "      <th>NumCompaniesWorked</th>\n",
       "      <td>0.039224</td>\n",
       "    </tr>\n",
       "    <tr>\n",
       "      <th>YearsInCurrentRole</th>\n",
       "      <td>0.039198</td>\n",
       "    </tr>\n",
       "    <tr>\n",
       "      <th>TrainingTimesLastYear</th>\n",
       "      <td>0.034779</td>\n",
       "    </tr>\n",
       "  </tbody>\n",
       "</table>\n",
       "</div>"
      ],
      "text/plain": [
       "                              0\n",
       "MonthlyIncome          0.063711\n",
       "Age                    0.059687\n",
       "TotalWorkingYears      0.051183\n",
       "YearsAtCompany         0.050642\n",
       "DistanceFromHome       0.047767\n",
       "YearsWithCurrManager   0.041322\n",
       "PercentSalaryHike      0.039481\n",
       "NumCompaniesWorked     0.039224\n",
       "YearsInCurrentRole     0.039198\n",
       "TrainingTimesLastYear  0.034779"
      ]
     },
     "execution_count": 330,
     "metadata": {},
     "output_type": "execute_result"
    }
   ],
   "source": [
    "Feature_Importance_df=pd.DataFrame(Feature_Importance,index=X_train.columns)\n",
    "Feature_Importance_df.sort_values(0,ascending=False).head(10)"
   ]
  },
  {
   "cell_type": "markdown",
   "id": "82428dc3",
   "metadata": {},
   "source": [
    "#### 4.3 Neural Network\n",
    "\n",
    "We will create a sequential neural network of four layers."
   ]
  },
  {
   "cell_type": "code",
   "execution_count": 6,
   "id": "2470459d",
   "metadata": {},
   "outputs": [],
   "source": [
    "model=tf.keras.models.Sequential()"
   ]
  },
  {
   "cell_type": "code",
   "execution_count": 7,
   "id": "3a801564",
   "metadata": {},
   "outputs": [],
   "source": [
    "model.add(tf.keras.layers.Dense(units=500,activation='relu',input_shape=(47,)))\n",
    "model.add(tf.keras.layers.Dense(units=500,activation='relu'))\n",
    "model.add(tf.keras.layers.Dense(units=500,activation='relu'))\n",
    "model.add(tf.keras.layers.Dense(units=1,activation='sigmoid')) #since it's classification we use sigmoid in the output"
   ]
  },
  {
   "cell_type": "code",
   "execution_count": 8,
   "id": "d8b34bc3",
   "metadata": {},
   "outputs": [
    {
     "name": "stdout",
     "output_type": "stream",
     "text": [
      "Model: \"sequential\"\n",
      "_________________________________________________________________\n",
      "Layer (type)                 Output Shape              Param #   \n",
      "=================================================================\n",
      "dense (Dense)                (None, 500)               24000     \n",
      "_________________________________________________________________\n",
      "dense_1 (Dense)              (None, 500)               250500    \n",
      "_________________________________________________________________\n",
      "dense_2 (Dense)              (None, 500)               250500    \n",
      "_________________________________________________________________\n",
      "dense_3 (Dense)              (None, 1)                 501       \n",
      "=================================================================\n",
      "Total params: 525,501\n",
      "Trainable params: 525,501\n",
      "Non-trainable params: 0\n",
      "_________________________________________________________________\n"
     ]
    }
   ],
   "source": [
    "model.summary()"
   ]
  },
  {
   "cell_type": "code",
   "execution_count": 9,
   "id": "4e66ad15",
   "metadata": {},
   "outputs": [],
   "source": [
    "model.compile(optimizer='Adam',loss='binary_crossentropy',metrics=['accuracy'])"
   ]
  },
  {
   "cell_type": "code",
   "execution_count": 10,
   "id": "e8864259",
   "metadata": {},
   "outputs": [
    {
     "name": "stdout",
     "output_type": "stream",
     "text": [
      "Train on 1176 samples\n",
      "Epoch 1/100\n",
      "1176/1176 [==============================] - 1s 820us/sample - loss: 0.4161 - accuracy: 0.8206\n",
      "Epoch 2/100\n",
      "1176/1176 [==============================] - 0s 84us/sample - loss: 0.3211 - accuracy: 0.8759\n",
      "Epoch 3/100\n",
      "1176/1176 [==============================] - 0s 107us/sample - loss: 0.2881 - accuracy: 0.8997\n",
      "Epoch 4/100\n",
      "1176/1176 [==============================] - 0s 87us/sample - loss: 0.2671 - accuracy: 0.9073\n",
      "Epoch 5/100\n",
      "1176/1176 [==============================] - 0s 77us/sample - loss: 0.2279 - accuracy: 0.9209\n",
      "Epoch 6/100\n",
      "1176/1176 [==============================] - 0s 80us/sample - loss: 0.2016 - accuracy: 0.9260\n",
      "Epoch 7/100\n",
      "1176/1176 [==============================] - 0s 91us/sample - loss: 0.1730 - accuracy: 0.9337\n",
      "Epoch 8/100\n",
      "1176/1176 [==============================] - 0s 79us/sample - loss: 0.1337 - accuracy: 0.9575\n",
      "Epoch 9/100\n",
      "1176/1176 [==============================] - 0s 76us/sample - loss: 0.1098 - accuracy: 0.9609\n",
      "Epoch 10/100\n",
      "1176/1176 [==============================] - 0s 80us/sample - loss: 0.0858 - accuracy: 0.9702\n",
      "Epoch 11/100\n",
      "1176/1176 [==============================] - 0s 78us/sample - loss: 0.0871 - accuracy: 0.9668\n",
      "Epoch 12/100\n",
      "1176/1176 [==============================] - 0s 84us/sample - loss: 0.0581 - accuracy: 0.9804\n",
      "Epoch 13/100\n",
      "1176/1176 [==============================] - 0s 95us/sample - loss: 0.0349 - accuracy: 0.9898\n",
      "Epoch 14/100\n",
      "1176/1176 [==============================] - 0s 98us/sample - loss: 0.0238 - accuracy: 0.9923\n",
      "Epoch 15/100\n",
      "1176/1176 [==============================] - 0s 90us/sample - loss: 0.0588 - accuracy: 0.9804\n",
      "Epoch 16/100\n",
      "1176/1176 [==============================] - 0s 80us/sample - loss: 0.0282 - accuracy: 0.9872\n",
      "Epoch 17/100\n",
      "1176/1176 [==============================] - 0s 78us/sample - loss: 0.0268 - accuracy: 0.9923\n",
      "Epoch 18/100\n",
      "1176/1176 [==============================] - 0s 75us/sample - loss: 0.0277 - accuracy: 0.9915\n",
      "Epoch 19/100\n",
      "1176/1176 [==============================] - 0s 75us/sample - loss: 0.0318 - accuracy: 0.9881\n",
      "Epoch 20/100\n",
      "1176/1176 [==============================] - 0s 82us/sample - loss: 0.0195 - accuracy: 0.9923\n",
      "Epoch 21/100\n",
      "1176/1176 [==============================] - 0s 75us/sample - loss: 0.0118 - accuracy: 0.9966\n",
      "Epoch 22/100\n",
      "1176/1176 [==============================] - 0s 75us/sample - loss: 0.0092 - accuracy: 0.9991\n",
      "Epoch 23/100\n",
      "1176/1176 [==============================] - 0s 75us/sample - loss: 0.0150 - accuracy: 0.9949\n",
      "Epoch 24/100\n",
      "1176/1176 [==============================] - 0s 79us/sample - loss: 0.0267 - accuracy: 0.9957\n",
      "Epoch 25/100\n",
      "1176/1176 [==============================] - 0s 76us/sample - loss: 0.0137 - accuracy: 0.9957\n",
      "Epoch 26/100\n",
      "1176/1176 [==============================] - 0s 81us/sample - loss: 0.0120 - accuracy: 0.9957\n",
      "Epoch 27/100\n",
      "1176/1176 [==============================] - 0s 87us/sample - loss: 0.0052 - accuracy: 0.9983\n",
      "Epoch 28/100\n",
      "1176/1176 [==============================] - 0s 70us/sample - loss: 0.0035 - accuracy: 0.9991\n",
      "Epoch 29/100\n",
      "1176/1176 [==============================] - 0s 76us/sample - loss: 0.0027 - accuracy: 0.9991\n",
      "Epoch 30/100\n",
      "1176/1176 [==============================] - 0s 76us/sample - loss: 9.5542e-04 - accuracy: 1.0000\n",
      "Epoch 31/100\n",
      "1176/1176 [==============================] - 0s 77us/sample - loss: 4.4976e-04 - accuracy: 1.0000\n",
      "Epoch 32/100\n",
      "1176/1176 [==============================] - 0s 81us/sample - loss: 1.9624e-04 - accuracy: 1.0000\n",
      "Epoch 33/100\n",
      "1176/1176 [==============================] - 0s 73us/sample - loss: 1.6262e-04 - accuracy: 1.0000\n",
      "Epoch 34/100\n",
      "1176/1176 [==============================] - 0s 75us/sample - loss: 1.4096e-04 - accuracy: 1.0000\n",
      "Epoch 35/100\n",
      "1176/1176 [==============================] - 0s 78us/sample - loss: 1.2067e-04 - accuracy: 1.0000\n",
      "Epoch 36/100\n",
      "1176/1176 [==============================] - 0s 103us/sample - loss: 1.0938e-04 - accuracy: 1.0000\n",
      "Epoch 37/100\n",
      "1176/1176 [==============================] - 0s 86us/sample - loss: 9.9850e-05 - accuracy: 1.0000\n",
      "Epoch 38/100\n",
      "1176/1176 [==============================] - 0s 78us/sample - loss: 9.1396e-05 - accuracy: 1.0000\n",
      "Epoch 39/100\n",
      "1176/1176 [==============================] - 0s 75us/sample - loss: 8.4908e-05 - accuracy: 1.0000\n",
      "Epoch 40/100\n",
      "1176/1176 [==============================] - 0s 73us/sample - loss: 7.8856e-05 - accuracy: 1.0000\n",
      "Epoch 41/100\n",
      "1176/1176 [==============================] - 0s 81us/sample - loss: 7.3095e-05 - accuracy: 1.0000\n",
      "Epoch 42/100\n",
      "1176/1176 [==============================] - 0s 81us/sample - loss: 6.8309e-05 - accuracy: 1.0000\n",
      "Epoch 43/100\n",
      "1176/1176 [==============================] - 0s 81us/sample - loss: 6.4009e-05 - accuracy: 1.0000\n",
      "Epoch 44/100\n",
      "1176/1176 [==============================] - 0s 81us/sample - loss: 6.0297e-05 - accuracy: 1.0000\n",
      "Epoch 45/100\n",
      "1176/1176 [==============================] - 0s 85us/sample - loss: 5.6892e-05 - accuracy: 1.0000\n",
      "Epoch 46/100\n",
      "1176/1176 [==============================] - 0s 85us/sample - loss: 5.4087e-05 - accuracy: 1.0000\n",
      "Epoch 47/100\n",
      "1176/1176 [==============================] - 0s 84us/sample - loss: 5.0916e-05 - accuracy: 1.0000\n",
      "Epoch 48/100\n",
      "1176/1176 [==============================] - 0s 82us/sample - loss: 4.8457e-05 - accuracy: 1.0000\n",
      "Epoch 49/100\n",
      "1176/1176 [==============================] - 0s 90us/sample - loss: 4.6424e-05 - accuracy: 1.0000\n",
      "Epoch 50/100\n",
      "1176/1176 [==============================] - 0s 78us/sample - loss: 4.3642e-05 - accuracy: 1.0000\n",
      "Epoch 51/100\n",
      "1176/1176 [==============================] - 0s 83us/sample - loss: 4.1091e-05 - accuracy: 1.0000\n",
      "Epoch 52/100\n",
      "1176/1176 [==============================] - 0s 85us/sample - loss: 3.8114e-05 - accuracy: 1.0000\n",
      "Epoch 53/100\n",
      "1176/1176 [==============================] - 0s 85us/sample - loss: 3.4874e-05 - accuracy: 1.0000\n",
      "Epoch 54/100\n",
      "1176/1176 [==============================] - 0s 83us/sample - loss: 3.1273e-05 - accuracy: 1.0000\n",
      "Epoch 55/100\n",
      "1176/1176 [==============================] - 0s 78us/sample - loss: 2.8670e-05 - accuracy: 1.0000\n",
      "Epoch 56/100\n",
      "1176/1176 [==============================] - 0s 76us/sample - loss: 2.5899e-05 - accuracy: 1.0000\n",
      "Epoch 57/100\n",
      "1176/1176 [==============================] - 0s 76us/sample - loss: 2.3623e-05 - accuracy: 1.0000\n",
      "Epoch 58/100\n",
      "1176/1176 [==============================] - 0s 92us/sample - loss: 2.2092e-05 - accuracy: 1.0000\n",
      "Epoch 59/100\n",
      "1176/1176 [==============================] - 0s 82us/sample - loss: 2.0339e-05 - accuracy: 1.0000\n",
      "Epoch 60/100\n",
      "1176/1176 [==============================] - 0s 77us/sample - loss: 1.9086e-05 - accuracy: 1.0000\n",
      "Epoch 61/100\n",
      "1176/1176 [==============================] - 0s 81us/sample - loss: 1.8026e-05 - accuracy: 1.0000\n",
      "Epoch 62/100\n",
      "1176/1176 [==============================] - 0s 80us/sample - loss: 1.7052e-05 - accuracy: 1.0000\n",
      "Epoch 63/100\n",
      "1176/1176 [==============================] - 0s 77us/sample - loss: 1.6255e-05 - accuracy: 1.0000\n",
      "Epoch 64/100\n",
      "1176/1176 [==============================] - 0s 75us/sample - loss: 1.5737e-05 - accuracy: 1.0000\n",
      "Epoch 65/100\n",
      "1176/1176 [==============================] - 0s 83us/sample - loss: 1.4796e-05 - accuracy: 1.0000\n",
      "Epoch 66/100\n",
      "1176/1176 [==============================] - 0s 87us/sample - loss: 1.4191e-05 - accuracy: 1.0000\n",
      "Epoch 67/100\n",
      "1176/1176 [==============================] - 0s 84us/sample - loss: 1.3493e-05 - accuracy: 1.0000\n",
      "Epoch 68/100\n",
      "1176/1176 [==============================] - 0s 84us/sample - loss: 1.3009e-05 - accuracy: 1.0000\n",
      "Epoch 69/100\n",
      "1176/1176 [==============================] - 0s 98us/sample - loss: 1.2485e-05 - accuracy: 1.0000\n",
      "Epoch 70/100\n",
      "1176/1176 [==============================] - 0s 113us/sample - loss: 1.2016e-05 - accuracy: 1.0000\n",
      "Epoch 71/100\n",
      "1176/1176 [==============================] - 0s 127us/sample - loss: 1.1652e-05 - accuracy: 1.0000\n",
      "Epoch 72/100\n",
      "1176/1176 [==============================] - 0s 152us/sample - loss: 1.1168e-05 - accuracy: 1.0000\n",
      "Epoch 73/100\n",
      "1176/1176 [==============================] - 0s 188us/sample - loss: 1.0830e-05 - accuracy: 1.0000\n",
      "Epoch 74/100\n",
      "1176/1176 [==============================] - 0s 126us/sample - loss: 1.0371e-05 - accuracy: 1.0000\n",
      "Epoch 75/100\n",
      "1176/1176 [==============================] - 0s 109us/sample - loss: 1.0063e-05 - accuracy: 1.0000\n",
      "Epoch 76/100\n",
      "1176/1176 [==============================] - 0s 94us/sample - loss: 9.6478e-06 - accuracy: 1.0000\n",
      "Epoch 77/100\n",
      "1176/1176 [==============================] - 0s 98us/sample - loss: 9.4116e-06 - accuracy: 1.0000\n",
      "Epoch 78/100\n",
      "1176/1176 [==============================] - 0s 92us/sample - loss: 9.0710e-06 - accuracy: 1.0000\n",
      "Epoch 79/100\n",
      "1176/1176 [==============================] - 0s 87us/sample - loss: 8.8777e-06 - accuracy: 1.0000\n",
      "Epoch 80/100\n",
      "1176/1176 [==============================] - 0s 82us/sample - loss: 8.4653e-06 - accuracy: 1.0000\n",
      "Epoch 81/100\n",
      "1176/1176 [==============================] - 0s 88us/sample - loss: 8.2116e-06 - accuracy: 1.0000\n",
      "Epoch 82/100\n",
      "1176/1176 [==============================] - 0s 77us/sample - loss: 7.9829e-06 - accuracy: 1.0000\n",
      "Epoch 83/100\n",
      "1176/1176 [==============================] - 0s 76us/sample - loss: 7.6516e-06 - accuracy: 1.0000\n",
      "Epoch 84/100\n",
      "1176/1176 [==============================] - 0s 72us/sample - loss: 7.4213e-06 - accuracy: 1.0000\n",
      "Epoch 85/100\n",
      "1176/1176 [==============================] - ETA: 0s - loss: 8.1457e-06 - accuracy: 1.00 - 0s 76us/sample - loss: 7.2054e-06 - accuracy: 1.0000\n",
      "Epoch 86/100\n",
      "1176/1176 [==============================] - 0s 73us/sample - loss: 7.0016e-06 - accuracy: 1.0000\n",
      "Epoch 87/100\n",
      "1176/1176 [==============================] - 0s 75us/sample - loss: 6.6972e-06 - accuracy: 1.0000\n",
      "Epoch 88/100\n",
      "1176/1176 [==============================] - 0s 76us/sample - loss: 6.4941e-06 - accuracy: 1.0000\n",
      "Epoch 89/100\n",
      "1176/1176 [==============================] - 0s 75us/sample - loss: 6.3628e-06 - accuracy: 1.0000\n",
      "Epoch 90/100\n",
      "1176/1176 [==============================] - 0s 75us/sample - loss: 6.1238e-06 - accuracy: 1.0000\n",
      "Epoch 91/100\n",
      "1176/1176 [==============================] - 0s 79us/sample - loss: 5.9123e-06 - accuracy: 1.0000\n",
      "Epoch 92/100\n",
      "1176/1176 [==============================] - 0s 77us/sample - loss: 5.7265e-06 - accuracy: 1.0000\n",
      "Epoch 93/100\n",
      "1176/1176 [==============================] - 0s 82us/sample - loss: 5.5855e-06 - accuracy: 1.0000\n",
      "Epoch 94/100\n",
      "1176/1176 [==============================] - 0s 95us/sample - loss: 5.3690e-06 - accuracy: 1.0000\n",
      "Epoch 95/100\n",
      "1176/1176 [==============================] - 0s 84us/sample - loss: 5.2489e-06 - accuracy: 1.0000\n",
      "Epoch 96/100\n",
      "1176/1176 [==============================] - 0s 78us/sample - loss: 5.0628e-06 - accuracy: 1.0000\n",
      "Epoch 97/100\n",
      "1176/1176 [==============================] - 0s 77us/sample - loss: 4.8952e-06 - accuracy: 1.0000\n",
      "Epoch 98/100\n",
      "1176/1176 [==============================] - 0s 103us/sample - loss: 4.7344e-06 - accuracy: 1.0000\n",
      "Epoch 99/100\n",
      "1176/1176 [==============================] - 0s 83us/sample - loss: 4.5980e-06 - accuracy: 1.0000\n",
      "Epoch 100/100\n",
      "1176/1176 [==============================] - ETA: 0s - loss: 5.1353e-06 - accuracy: 1.00 - 0s 74us/sample - loss: 4.4939e-06 - accuracy: 1.0000\n"
     ]
    }
   ],
   "source": [
    "epochs_history=model.fit(X_train,y_train,epochs=100,batch_size=50)"
   ]
  },
  {
   "cell_type": "code",
   "execution_count": 11,
   "id": "e7dad5f5",
   "metadata": {},
   "outputs": [
    {
     "data": {
      "text/plain": [
       "<matplotlib.legend.Legend at 0x1384c602a58>"
      ]
     },
     "execution_count": 11,
     "metadata": {},
     "output_type": "execute_result"
    },
    {
     "data": {
      "image/png": "[encoded data removed]",
      "text/plain": [
       "<Figure size 432x288 with 1 Axes>"
      ]
     },
     "metadata": {
      "needs_background": "light"
     },
     "output_type": "display_data"
    }
   ],
   "source": [
    "#Plotting the model loss during the training epochs.\n",
    "plt.plot(epochs_history.history['loss'])\n",
    "plt.title('Model loss progress during training')\n",
    "plt.xlabel('Epoch')\n",
    "plt.ylabel('Training loss')\n",
    "plt.legend(['Training loss'])"
   ]
  },
  {
   "cell_type": "code",
   "execution_count": 12,
   "id": "92fddbc8",
   "metadata": {},
   "outputs": [
    {
     "data": {
      "text/plain": [
       "<matplotlib.legend.Legend at 0x1384fc9d9e8>"
      ]
     },
     "execution_count": 12,
     "metadata": {},
     "output_type": "execute_result"
    },
    {
     "data": {
      "image/png": "[encoded data removed]",
      "text/plain": [
       "<Figure size 432x288 with 1 Axes>"
      ]
     },
     "metadata": {
      "needs_background": "light"
     },
     "output_type": "display_data"
    }
   ],
   "source": [
    "#Plotting the model loss during the training epochs.\n",
    "plt.plot(epochs_history.history['accuracy'])\n",
    "plt.title('Model accuracy progress during training')\n",
    "plt.xlabel('Epoch')\n",
    "plt.ylabel('Training accuracy')\n",
    "plt.legend(['Training accuracy'])"
   ]
  },
  {
   "cell_type": "markdown",
   "id": "79a530a5",
   "metadata": {},
   "source": [
    "Around 20 epochs there is not to much improvement, so to optimize we can reduce the number of epochs from 100 to 20. Let see how the confussion matrix looks:"
   ]
  },
  {
   "cell_type": "code",
   "execution_count": 13,
   "id": "2ae68b7c",
   "metadata": {},
   "outputs": [
    {
     "name": "stdout",
     "output_type": "stream",
     "text": [
      "              precision    recall  f1-score   support\n",
      "\n",
      "           0       0.88      0.92      0.90       247\n",
      "           1       0.47      0.36      0.41        47\n",
      "\n",
      "    accuracy                           0.83       294\n",
      "   macro avg       0.68      0.64      0.66       294\n",
      "weighted avg       0.82      0.83      0.82       294\n",
      "\n"
     ]
    },
    {
     "data": {
      "image/png": "[encoded data removed]",
      "text/plain": [
       "<Figure size 432x288 with 2 Axes>"
      ]
     },
     "metadata": {
      "needs_background": "light"
     },
     "output_type": "display_data"
    }
   ],
   "source": [
    "y_pred=model.predict(X_test)\n",
    "y_pred=(y_pred>0.5)\n",
    "cm=confusion_matrix(y_test,y_pred)\n",
    "sns.heatmap(cm,annot=True)\n",
    "print(classification_report(y_test,y_pred))"
   ]
  },
  {
   "cell_type": "markdown",
   "id": "cfc15834",
   "metadata": {},
   "source": [
    "No improvement with regards the linear regression classifier. We can try to weight up the minority class:"
   ]
  },
  {
   "cell_type": "code",
   "execution_count": 14,
   "id": "2152b6e5",
   "metadata": {},
   "outputs": [
    {
     "name": "stdout",
     "output_type": "stream",
     "text": [
      "WARNING:tensorflow:sample_weight modes were coerced from\n",
      "  ...\n",
      "    to  \n",
      "  ['...']\n",
      "Train on 1176 samples\n",
      "Epoch 1/100\n",
      "1176/1176 [==============================] - 0s 398us/sample - loss: 1.7905e-05 - accuracy: 1.0000\n",
      "Epoch 2/100\n",
      "1176/1176 [==============================] - 0s 91us/sample - loss: 1.3139e-05 - accuracy: 1.0000\n",
      "Epoch 3/100\n",
      "1176/1176 [==============================] - 0s 92us/sample - loss: 1.2318e-05 - accuracy: 1.0000\n",
      "Epoch 4/100\n",
      "1176/1176 [==============================] - 0s 93us/sample - loss: 1.0268e-05 - accuracy: 1.0000\n",
      "Epoch 5/100\n",
      "1176/1176 [==============================] - 0s 85us/sample - loss: 9.1905e-06 - accuracy: 1.0000\n",
      "Epoch 6/100\n",
      "1176/1176 [==============================] - 0s 88us/sample - loss: 8.5605e-06 - accuracy: 1.0000\n",
      "Epoch 7/100\n",
      "1176/1176 [==============================] - 0s 83us/sample - loss: 7.7837e-06 - accuracy: 1.0000\n",
      "Epoch 8/100\n",
      "1176/1176 [==============================] - 0s 83us/sample - loss: 7.0437e-06 - accuracy: 1.0000\n",
      "Epoch 9/100\n",
      "1176/1176 [==============================] - 0s 102us/sample - loss: 6.6528e-06 - accuracy: 1.0000\n",
      "Epoch 10/100\n",
      "1176/1176 [==============================] - 0s 94us/sample - loss: 6.0241e-06 - accuracy: 1.0000\n",
      "Epoch 11/100\n",
      "1176/1176 [==============================] - 0s 90us/sample - loss: 5.6257e-06 - accuracy: 1.0000\n",
      "Epoch 12/100\n",
      "1176/1176 [==============================] - 0s 91us/sample - loss: 5.3148e-06 - accuracy: 1.0000\n",
      "Epoch 13/100\n",
      "1176/1176 [==============================] - 0s 83us/sample - loss: 4.9824e-06 - accuracy: 1.0000\n",
      "Epoch 14/100\n",
      "1176/1176 [==============================] - 0s 82us/sample - loss: 4.6899e-06 - accuracy: 1.0000\n",
      "Epoch 15/100\n",
      "1176/1176 [==============================] - 0s 88us/sample - loss: 4.4756e-06 - accuracy: 1.0000\n",
      "Epoch 16/100\n",
      "1176/1176 [==============================] - 0s 90us/sample - loss: 4.2528e-06 - accuracy: 1.0000\n",
      "Epoch 17/100\n",
      "1176/1176 [==============================] - 0s 93us/sample - loss: 3.9833e-06 - accuracy: 1.0000\n",
      "Epoch 18/100\n",
      "1176/1176 [==============================] - 0s 91us/sample - loss: 3.7802e-06 - accuracy: 1.0000\n",
      "Epoch 19/100\n",
      "1176/1176 [==============================] - 0s 86us/sample - loss: 3.5941e-06 - accuracy: 1.0000\n",
      "Epoch 20/100\n",
      "1176/1176 [==============================] - 0s 82us/sample - loss: 3.4156e-06 - accuracy: 1.0000\n",
      "Epoch 21/100\n",
      "1176/1176 [==============================] - 0s 85us/sample - loss: 3.2686e-06 - accuracy: 1.0000\n",
      "Epoch 22/100\n",
      "1176/1176 [==============================] - 0s 87us/sample - loss: 3.1133e-06 - accuracy: 1.0000\n",
      "Epoch 23/100\n",
      "1176/1176 [==============================] - 0s 86us/sample - loss: 2.9866e-06 - accuracy: 1.0000\n",
      "Epoch 24/100\n",
      "1176/1176 [==============================] - 0s 86us/sample - loss: 2.8680e-06 - accuracy: 1.0000\n",
      "Epoch 25/100\n",
      "1176/1176 [==============================] - 0s 89us/sample - loss: 2.7544e-06 - accuracy: 1.0000\n",
      "Epoch 26/100\n",
      "1176/1176 [==============================] - 0s 91us/sample - loss: 2.6254e-06 - accuracy: 1.0000\n",
      "Epoch 27/100\n",
      "1176/1176 [==============================] - 0s 80us/sample - loss: 2.5371e-06 - accuracy: 1.0000\n",
      "Epoch 28/100\n",
      "1176/1176 [==============================] - 0s 85us/sample - loss: 2.4260e-06 - accuracy: 1.0000\n",
      "Epoch 29/100\n",
      "1176/1176 [==============================] - 0s 83us/sample - loss: 2.3438e-06 - accuracy: 1.0000\n",
      "Epoch 30/100\n",
      "1176/1176 [==============================] - 0s 86us/sample - loss: 2.2512e-06 - accuracy: 1.0000\n",
      "Epoch 31/100\n",
      "1176/1176 [==============================] - 0s 85us/sample - loss: 2.1768e-06 - accuracy: 1.0000\n",
      "Epoch 32/100\n",
      "1176/1176 [==============================] - 0s 92us/sample - loss: 2.0999e-06 - accuracy: 1.0000\n",
      "Epoch 33/100\n",
      "1176/1176 [==============================] - 0s 83us/sample - loss: 2.0380e-06 - accuracy: 1.0000\n",
      "Epoch 34/100\n",
      "1176/1176 [==============================] - 0s 91us/sample - loss: 1.9623e-06 - accuracy: 1.0000\n",
      "Epoch 35/100\n",
      "1176/1176 [==============================] - ETA: 0s - loss: 1.8553e-06 - accuracy: 1.00 - 0s 84us/sample - loss: 1.9103e-06 - accuracy: 1.0000\n",
      "Epoch 36/100\n",
      "1176/1176 [==============================] - 0s 96us/sample - loss: 1.8360e-06 - accuracy: 1.0000\n",
      "Epoch 37/100\n",
      "1176/1176 [==============================] - 0s 97us/sample - loss: 1.7844e-06 - accuracy: 1.0000\n",
      "Epoch 38/100\n",
      "1176/1176 [==============================] - 0s 80us/sample - loss: 1.7304e-06 - accuracy: 1.0000\n",
      "Epoch 39/100\n",
      "1176/1176 [==============================] - 0s 101us/sample - loss: 1.6858e-06 - accuracy: 1.0000 - loss: 1.6074e-06 - accuracy: 1.\n",
      "Epoch 40/100\n",
      "1176/1176 [==============================] - 0s 85us/sample - loss: 1.6267e-06 - accuracy: 1.0000\n",
      "Epoch 41/100\n",
      "1176/1176 [==============================] - 0s 81us/sample - loss: 1.5813e-06 - accuracy: 1.0000\n",
      "Epoch 42/100\n",
      "1176/1176 [==============================] - 0s 92us/sample - loss: 1.5369e-06 - accuracy: 1.0000\n",
      "Epoch 43/100\n",
      "1176/1176 [==============================] - 0s 86us/sample - loss: 1.4918e-06 - accuracy: 1.0000\n",
      "Epoch 44/100\n",
      "1176/1176 [==============================] - 0s 99us/sample - loss: 1.4477e-06 - accuracy: 1.0000s - loss: 1.4732e-06 - accuracy: 1.00\n",
      "Epoch 45/100\n",
      "1176/1176 [==============================] - 0s 86us/sample - loss: 1.4083e-06 - accuracy: 1.0000\n",
      "Epoch 46/100\n",
      "1176/1176 [==============================] - 0s 83us/sample - loss: 1.3690e-06 - accuracy: 1.0000\n",
      "Epoch 47/100\n",
      "1176/1176 [==============================] - 0s 86us/sample - loss: 1.3338e-06 - accuracy: 1.0000\n",
      "Epoch 48/100\n",
      "1176/1176 [==============================] - 0s 92us/sample - loss: 1.3037e-06 - accuracy: 1.0000\n",
      "Epoch 49/100\n",
      "1176/1176 [==============================] - 0s 85us/sample - loss: 1.2649e-06 - accuracy: 1.0000\n",
      "Epoch 50/100\n",
      "1176/1176 [==============================] - 0s 86us/sample - loss: 1.2332e-06 - accuracy: 1.0000\n",
      "Epoch 51/100\n",
      "1176/1176 [==============================] - 0s 96us/sample - loss: 1.2008e-06 - accuracy: 1.0000\n",
      "Epoch 52/100\n",
      "1176/1176 [==============================] - 0s 88us/sample - loss: 1.1739e-06 - accuracy: 1.0000\n",
      "Epoch 53/100\n",
      "1176/1176 [==============================] - 0s 84us/sample - loss: 1.1386e-06 - accuracy: 1.0000\n",
      "Epoch 54/100\n",
      "1176/1176 [==============================] - 0s 87us/sample - loss: 1.1142e-06 - accuracy: 1.0000\n",
      "Epoch 55/100\n",
      "1176/1176 [==============================] - 0s 82us/sample - loss: 1.0825e-06 - accuracy: 1.0000\n",
      "Epoch 56/100\n",
      "1176/1176 [==============================] - 0s 86us/sample - loss: 1.0584e-06 - accuracy: 1.0000\n",
      "Epoch 57/100\n",
      "1176/1176 [==============================] - 0s 86us/sample - loss: 1.0375e-06 - accuracy: 1.0000\n",
      "Epoch 58/100\n",
      "1176/1176 [==============================] - 0s 87us/sample - loss: 1.0126e-06 - accuracy: 1.0000\n",
      "Epoch 59/100\n",
      "1176/1176 [==============================] - 0s 82us/sample - loss: 9.8826e-07 - accuracy: 1.0000\n",
      "Epoch 60/100\n",
      "1176/1176 [==============================] - 0s 87us/sample - loss: 9.6314e-07 - accuracy: 1.0000\n",
      "Epoch 61/100\n",
      "1176/1176 [==============================] - 0s 83us/sample - loss: 9.3947e-07 - accuracy: 1.0000\n",
      "Epoch 62/100\n",
      "1176/1176 [==============================] - 0s 86us/sample - loss: 9.1906e-07 - accuracy: 1.0000\n",
      "Epoch 63/100\n",
      "1176/1176 [==============================] - 0s 83us/sample - loss: 8.9722e-07 - accuracy: 1.0000\n",
      "Epoch 64/100\n",
      "1176/1176 [==============================] - 0s 85us/sample - loss: 8.7812e-07 - accuracy: 1.0000\n",
      "Epoch 65/100\n",
      "1176/1176 [==============================] - 0s 85us/sample - loss: 8.6323e-07 - accuracy: 1.0000\n",
      "Epoch 66/100\n",
      "1176/1176 [==============================] - 0s 83us/sample - loss: 8.4695e-07 - accuracy: 1.0000\n",
      "Epoch 67/100\n",
      "1176/1176 [==============================] - 0s 83us/sample - loss: 8.2074e-07 - accuracy: 1.0000\n",
      "Epoch 68/100\n",
      "1176/1176 [==============================] - 0s 93us/sample - loss: 8.0472e-07 - accuracy: 1.0000\n",
      "Epoch 69/100\n",
      "1176/1176 [==============================] - 0s 92us/sample - loss: 7.8925e-07 - accuracy: 1.0000\n",
      "Epoch 70/100\n",
      "1176/1176 [==============================] - 0s 88us/sample - loss: 7.7186e-07 - accuracy: 1.0000\n",
      "Epoch 71/100\n",
      "1176/1176 [==============================] - 0s 88us/sample - loss: 7.5561e-07 - accuracy: 1.0000\n",
      "Epoch 72/100\n",
      "1176/1176 [==============================] - 0s 90us/sample - loss: 7.3890e-07 - accuracy: 1.0000\n",
      "Epoch 73/100\n",
      "1176/1176 [==============================] - 0s 88us/sample - loss: 7.2475e-07 - accuracy: 1.0000\n",
      "Epoch 74/100\n",
      "1176/1176 [==============================] - 0s 87us/sample - loss: 7.1306e-07 - accuracy: 1.0000\n",
      "Epoch 75/100\n",
      "1176/1176 [==============================] - 0s 93us/sample - loss: 6.9790e-07 - accuracy: 1.0000\n",
      "Epoch 76/100\n",
      "1176/1176 [==============================] - 0s 104us/sample - loss: 6.8130e-07 - accuracy: 1.0000\n",
      "Epoch 77/100\n",
      "1176/1176 [==============================] - 0s 98us/sample - loss: 6.6965e-07 - accuracy: 1.0000\n",
      "Epoch 78/100\n",
      "1176/1176 [==============================] - 0s 93us/sample - loss: 6.5573e-07 - accuracy: 1.0000\n",
      "Epoch 79/100\n",
      "1176/1176 [==============================] - 0s 98us/sample - loss: 6.4525e-07 - accuracy: 1.0000\n",
      "Epoch 80/100\n",
      "1176/1176 [==============================] - 0s 99us/sample - loss: 6.2960e-07 - accuracy: 1.0000\n",
      "Epoch 81/100\n",
      "1176/1176 [==============================] - 0s 103us/sample - loss: 6.1999e-07 - accuracy: 1.0000\n",
      "Epoch 82/100\n",
      "1176/1176 [==============================] - 0s 101us/sample - loss: 6.0736e-07 - accuracy: 1.0000\n",
      "Epoch 83/100\n",
      "1176/1176 [==============================] - 0s 96us/sample - loss: 5.9695e-07 - accuracy: 1.0000\n",
      "Epoch 84/100\n",
      "1176/1176 [==============================] - 0s 97us/sample - loss: 5.8418e-07 - accuracy: 1.0000\n",
      "Epoch 85/100\n",
      "1176/1176 [==============================] - 0s 100us/sample - loss: 5.7610e-07 - accuracy: 1.0000\n",
      "Epoch 86/100\n",
      "1176/1176 [==============================] - 0s 99us/sample - loss: 5.6460e-07 - accuracy: 1.0000\n",
      "Epoch 87/100\n",
      "1176/1176 [==============================] - 0s 94us/sample - loss: 5.5367e-07 - accuracy: 1.0000\n",
      "Epoch 88/100\n",
      "1176/1176 [==============================] - 0s 101us/sample - loss: 5.4376e-07 - accuracy: 1.0000\n",
      "Epoch 89/100\n",
      "1176/1176 [==============================] - 0s 102us/sample - loss: 5.3769e-07 - accuracy: 1.0000\n",
      "Epoch 90/100\n",
      "1176/1176 [==============================] - 0s 102us/sample - loss: 5.2289e-07 - accuracy: 1.0000\n",
      "Epoch 91/100\n",
      "1176/1176 [==============================] - 0s 103us/sample - loss: 5.1527e-07 - accuracy: 1.0000\n",
      "Epoch 92/100\n",
      "1176/1176 [==============================] - 0s 101us/sample - loss: 5.0430e-07 - accuracy: 1.0000\n",
      "Epoch 93/100\n",
      "1176/1176 [==============================] - 0s 98us/sample - loss: 4.9504e-07 - accuracy: 1.0000\n",
      "Epoch 94/100\n",
      "1176/1176 [==============================] - 0s 94us/sample - loss: 4.8799e-07 - accuracy: 1.0000\n",
      "Epoch 95/100\n",
      "1176/1176 [==============================] - 0s 103us/sample - loss: 4.7972e-07 - accuracy: 1.0000\n",
      "Epoch 96/100\n",
      "1176/1176 [==============================] - 0s 106us/sample - loss: 4.6931e-07 - accuracy: 1.0000\n",
      "Epoch 97/100\n",
      "1176/1176 [==============================] - 0s 99us/sample - loss: 4.6216e-07 - accuracy: 1.0000\n",
      "Epoch 98/100\n",
      "1176/1176 [==============================] - 0s 101us/sample - loss: 4.5410e-07 - accuracy: 1.0000\n",
      "Epoch 99/100\n",
      "1176/1176 [==============================] - 0s 101us/sample - loss: 4.4786e-07 - accuracy: 1.0000\n",
      "Epoch 100/100\n",
      "1176/1176 [==============================] - 0s 102us/sample - loss: 4.3923e-07 - accuracy: 1.0000\n"
     ]
    }
   ],
   "source": [
    "# Giving the class 1 (attrition yes) 15 more weigh than class1 \n",
    "weights={0:1,1:15}\n",
    "epochs_history=model.fit(X_train,y_train,epochs=100,batch_size=50,class_weight=weights)"
   ]
  },
  {
   "cell_type": "code",
   "execution_count": 15,
   "id": "a69a795e",
   "metadata": {},
   "outputs": [
    {
     "name": "stdout",
     "output_type": "stream",
     "text": [
      "              precision    recall  f1-score   support\n",
      "\n",
      "           0       0.88      0.92      0.90       247\n",
      "           1       0.46      0.36      0.40        47\n",
      "\n",
      "    accuracy                           0.83       294\n",
      "   macro avg       0.67      0.64      0.65       294\n",
      "weighted avg       0.82      0.83      0.82       294\n",
      "\n"
     ]
    },
    {
     "data": {
      "image/png": "[encoded data removed]",
      "text/plain": [
       "<Figure size 432x288 with 2 Axes>"
      ]
     },
     "metadata": {
      "needs_background": "light"
     },
     "output_type": "display_data"
    }
   ],
   "source": [
    "y_pred=model.predict(X_test)\n",
    "y_pred=(y_pred>0.5)\n",
    "cm=confusion_matrix(y_test,y_pred)\n",
    "sns.heatmap(cm,annot=True)\n",
    "print(classification_report(y_test,y_pred))"
   ]
  },
  {
   "cell_type": "markdown",
   "id": "6276cacc",
   "metadata": {},
   "source": [
    "No improvements"
   ]
  },
  {
   "cell_type": "code",
   "execution_count": null,
   "id": "c7f04e24",
   "metadata": {},
   "outputs": [],
   "source": []
  },
  {
   "cell_type": "code",
   "execution_count": null,
   "id": "6d689fc8",
   "metadata": {},
   "outputs": [],
   "source": []
  }
 ],
 "metadata": {
  "kernelspec": {
   "display_name": "Python 3",
   "language": "python",
   "name": "python3"
  },
  "language_info": {
   "codemirror_mode": {
    "name": "ipython",
    "version": 3
   },
   "file_extension": ".py",
   "mimetype": "text/x-python",
   "name": "python",
   "nbconvert_exporter": "python",
   "pygments_lexer": "ipython3",
   "version": "3.6.10"
  }
 },
 "nbformat": 4,
 "nbformat_minor": 5
}
