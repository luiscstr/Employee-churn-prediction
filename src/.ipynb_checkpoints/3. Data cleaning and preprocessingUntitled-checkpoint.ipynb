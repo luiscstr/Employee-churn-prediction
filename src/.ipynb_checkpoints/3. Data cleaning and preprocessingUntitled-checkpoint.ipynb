{
 "cells": [
  {
   "cell_type": "code",
   "execution_count": 149,
   "id": "23c1299c",
   "metadata": {},
   "outputs": [],
   "source": [
    "import pandas as pd\n",
    "from sklearn.model_selection import train_test_split,StratifiedShuffleSplit\n",
    "from sklearn.preprocessing import OneHotEncoder,MinMaxScaler\n",
    "import pickle"
   ]
  },
  {
   "cell_type": "code",
   "execution_count": 148,
   "id": "d77aea3d",
   "metadata": {},
   "outputs": [],
   "source": [
    "### LOAD DATA\n",
    "#Reading dataset\n",
    "employee_df=pd.read_csv('C:/Users/lcast/Desktop/DS/GitHub/Employee-churn-predtion/Data/Human_Resources.csv')"
   ]
  },
  {
   "cell_type": "markdown",
   "id": "7efe30a1",
   "metadata": {},
   "source": [
    "## 3. DATA PREPROCESSING AND CLEANING"
   ]
  },
  {
   "cell_type": "markdown",
   "id": "f546a81f",
   "metadata": {},
   "source": [
    "#### Converting into numerical\n",
    "The attributes   'overtime' , 'Over18' along with the target 'Attritition'are boolean (Y/N) We replace by an integer (N/Y=> 0/1) before performing any visualization."
   ]
  },
  {
   "cell_type": "code",
   "execution_count": 150,
   "id": "fbeaa03b",
   "metadata": {},
   "outputs": [],
   "source": [
    "#employee_df['Attrition']=np.where(employee_df['Attrition']=='Yes',1,0)\n",
    "employee_df['Attrition']=employee_df['Attrition'].apply(lambda x: 1 if x=='Yes' else 0)\n",
    "employee_df['OverTime']=employee_df['OverTime'].apply(lambda x: 1 if x=='Yes' else 0)\n",
    "employee_df['Over18']=employee_df['Over18'].apply(lambda x: 1 if x=='Y' else 0)"
   ]
  },
  {
   "cell_type": "markdown",
   "id": "6ef6bd0d",
   "metadata": {},
   "source": [
    "#### Removing irrelevant variables\n",
    "The features 'EmployeeCount', 'Standardhours' and 'Over18'  do not change from one employee to the other, so can be dropped. It  also makes sense to drop 'EmployeeNumber' since is just and employee ID not relevant for the analysis."
   ]
  },
  {
   "cell_type": "code",
   "execution_count": 151,
   "id": "fe12666b",
   "metadata": {},
   "outputs": [],
   "source": [
    "employee_df.drop(['EmployeeCount','StandardHours','Over18','EmployeeNumber'],axis=1,inplace=True)"
   ]
  },
  {
   "cell_type": "markdown",
   "id": "70a950cd",
   "metadata": {},
   "source": [
    "Since we are not complety sure of what this features represent (in a real situation we would ask to the HR department), and because in the dataset there is the variable Monthly Income that provides information about the salary, we remove all three."
   ]
  },
  {
   "cell_type": "code",
   "execution_count": 152,
   "id": "c19202e4",
   "metadata": {},
   "outputs": [],
   "source": [
    "employee_df.drop(['DailyRate','HourlyRate','MonthlyRate'],axis=1,inplace=True)"
   ]
  },
  {
   "cell_type": "markdown",
   "id": "09915b83",
   "metadata": {},
   "source": [
    "#### Split in train and test sets\n",
    "Since the dataset is unbalanced, we do a stratified sampling to keep the same proportion of the two classes. "
   ]
  },
  {
   "cell_type": "code",
   "execution_count": 153,
   "id": "7312f423",
   "metadata": {},
   "outputs": [],
   "source": [
    "split=StratifiedShuffleSplit(n_splits=1,test_size=0.2,random_state=42)\n",
    "for train_index,test_index in split.split(employee_df,employee_df['Attrition']):\n",
    "    employee_df_train=employee_df.loc[train_index]\n",
    "    employee_df_test=employee_df.loc[test_index]"
   ]
  },
  {
   "cell_type": "code",
   "execution_count": 154,
   "id": "056c5188",
   "metadata": {},
   "outputs": [],
   "source": [
    "#Dividing between categorical and numerical features\n",
    "Train_cat=employee_df_train[employee_df_train.columns[employee_df_train.dtypes==object]]\n",
    "Train_num=employee_df_train[employee_df_train.columns[employee_df_train.dtypes!=object]]\n",
    "Train_num=Train_num.drop('Attrition',axis=1)"
   ]
  },
  {
   "cell_type": "markdown",
   "id": "014b1bf7",
   "metadata": {},
   "source": [
    "#### Encoding"
   ]
  },
  {
   "cell_type": "code",
   "execution_count": 155,
   "id": "91ebad16",
   "metadata": {},
   "outputs": [],
   "source": [
    "#Using OneHOtEncoding to encode the categorical variables\n",
    "encoder=OneHotEncoder()\n",
    "Train_cat_enc=encoder.fit_transform(Train_cat).toarray()\n",
    "Train_cat_df=pd.DataFrame(Train_cat_enc,index=Train_cat.index)\n",
    "Train_cat_df.columns=encoder.get_feature_names()"
   ]
  },
  {
   "cell_type": "markdown",
   "id": "3c9af118",
   "metadata": {},
   "source": [
    "#### Scaling"
   ]
  },
  {
   "cell_type": "code",
   "execution_count": 156,
   "id": "0f2eb676",
   "metadata": {},
   "outputs": [],
   "source": [
    "#Scaling the numerical features\n",
    "scaler=MinMaxScaler()\n",
    "Train_num_df =pd.DataFrame(scaler.fit_transform(Train_num),columns=Train_num.columns,index=Train_num.index)"
   ]
  },
  {
   "cell_type": "code",
   "execution_count": 157,
   "id": "58be521b",
   "metadata": {},
   "outputs": [],
   "source": [
    "#Joining back the categorical and numerical features after the tretment.\n",
    "Train_df_prepro=pd.concat([Train_cat_df,Train_num_df,pd.DataFrame(employee_df_train['Attrition'])],axis=1)"
   ]
  },
  {
   "cell_type": "markdown",
   "id": "f9fa5001",
   "metadata": {},
   "source": [
    "#### Preprocessing test data set"
   ]
  },
  {
   "cell_type": "code",
   "execution_count": 167,
   "id": "e02505f0",
   "metadata": {},
   "outputs": [],
   "source": [
    "Test_cat=employee_df_test[employee_df_test.columns[employee_df_test.dtypes==object]]\n",
    "Test_num=employee_df_test[employee_df_test.columns[employee_df_test.dtypes!=object]]\n",
    "Test_num=Test_num.drop('Attrition',axis=1)\n",
    "Test_cat_enc=encoder.transform(Test_cat).toarray()\n",
    "Test_cat_df=pd.DataFrame(Test_cat_enc,index=Test_cat.index)\n",
    "Test_cat_df.columns=encoder.get_feature_names()\n",
    "Test_num_df =pd.DataFrame(scaler.transform(Test_num),columns=Test_num.columns,index=Test_num.index)\n",
    "\n",
    "Test_df_prepro=pd.concat([Test_cat_df,Test_num_df,pd.DataFrame(employee_df_test['Attrition'])],axis=1)\n",
    "#y_test=employee_df_test['Attrition']\n",
    "#y_test=y_test.reset_index(drop=True)"
   ]
  },
  {
   "cell_type": "code",
   "execution_count": 169,
   "id": "6fe7c990",
   "metadata": {},
   "outputs": [],
   "source": [
    "file_path='C:/Users/lcast/Desktop/DS/GitHub/Employee-churn-predtion/Data/'\n",
    "\n",
    "Train_df_prepro.to_pickle(file_path+ 'Train_df_prepro.pkl')\n",
    "Test_df_prepro.to_pickle(file_path+ 'Test_df_prepro.pkl')"
   ]
  },
  {
   "cell_type": "code",
   "execution_count": null,
   "id": "09cc40bf",
   "metadata": {},
   "outputs": [],
   "source": []
  }
 ],
 "metadata": {
  "kernelspec": {
   "display_name": "Python 3",
   "language": "python",
   "name": "python3"
  },
  "language_info": {
   "codemirror_mode": {
    "name": "ipython",
    "version": 3
   },
   "file_extension": ".py",
   "mimetype": "text/x-python",
   "name": "python",
   "nbconvert_exporter": "python",
   "pygments_lexer": "ipython3",
   "version": "3.6.10"
  }
 },
 "nbformat": 4,
 "nbformat_minor": 5
}
