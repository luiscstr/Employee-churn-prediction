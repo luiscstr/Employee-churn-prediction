{
 "cells": [
  {
   "cell_type": "markdown",
   "id": "5eb97efe",
   "metadata": {},
   "source": [
    "##  Conclusions & Recommendations\n",
    "\n",
    "- Top variables that influence the attrition are MonthlyIncome, Age, Total Working Years, Distance From Home, Years at the company, Percent Salary Hike, Years with current Manager, number of companies worked, years in current role and job satisfaction. We can suggest HR to focus in this variables, for example:\n",
    "\n",
    "    -  Monthly Income: offer a competitive salary based on industry benchmarks.\n",
    "    -  Distance from home: when possible allow working from home. Also provide commuter disccount programs.\n",
    "    -  Percent Salary Hike: implement regular salary hikes tied to annual performance.\n",
    "    -  Number of companies worked: use this variable during the hiring processes as an input.\n",
    "    -  Age/Total Working Years/Years at the company/Years at the current role: employees with less time have a higher risk of attrition. HR could identify these employees and put in place programms/mesures to retain them.\n",
    "    - Overtime: internal campaing to reduce the overtime. Compensate overtime hours\n",
    "    \n",
    "    \n",
    "- Further EDA can be done, such for example analyzing is the monthly income affects to all departments the same, to identify more concrete scenarios where the attrition is higher.\n",
    "    \n",
    "- Three classifier models were explored: linear regression, Random Forest Classifier and a Neural Work. The best results were obtained with the linear regression, although the results are far from perfect and the rate of correct prediction of the attrition is low.  By adjusting the model decission boundary, we can modify the precision and recall to provide HR whith the model that better suits their needs.\n",
    "\n",
    "- There is room to improve by adjusting the algorithms or trying different ones. Also some feature enfineering could help. But it's also possible that attrition is just that something happens: in a competitive market with opportunities available people just leaves. In that sense, it would be helpful to have the attrition information of other comparable companies to use it as a reference."
   ]
  },
  {
   "cell_type": "code",
   "execution_count": null,
   "id": "85e59cd9",
   "metadata": {},
   "outputs": [],
   "source": []
  }
 ],
 "metadata": {
  "kernelspec": {
   "display_name": "Python 3",
   "language": "python",
   "name": "python3"
  },
  "language_info": {
   "codemirror_mode": {
    "name": "ipython",
    "version": 3
   },
   "file_extension": ".py",
   "mimetype": "text/x-python",
   "name": "python",
   "nbconvert_exporter": "python",
   "pygments_lexer": "ipython3",
   "version": "3.6.10"
  }
 },
 "nbformat": 4,
 "nbformat_minor": 5
}
