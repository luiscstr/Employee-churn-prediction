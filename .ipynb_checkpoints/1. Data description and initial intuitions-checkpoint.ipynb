{
 "cells": [
  {
   "cell_type": "code",
   "execution_count": null,
   "id": "90c7ecbd",
   "metadata": {},
   "outputs": [],
   "source": [
    "### LOAD DATA\n",
    "#Reading dataset\n",
    "employee_df=pd.read_csv('C:/Users/lcast/Desktop/DS/GitHub/Employee-churn-predtion/Human_Resources.csv')\n",
    "\n",
    "\n"
   ]
  },
  {
   "cell_type": "code",
   "execution_count": null,
   "id": "5cc4b637",
   "metadata": {},
   "outputs": [],
   "source": [
    "## 1. DATA DESCRIPTION AND INITIAL INTUITIONS\n",
    "employee_df.columns\n",
    "Index(['Age', 'Attrition', 'BusinessTravel', 'DailyRate', 'Department',\n",
    "       'DistanceFromHome', 'Education', 'EducationField',\n",
    "       'EnvironmentSatisfaction', 'Gender', 'HourlyRate', 'JobInvolvement',\n",
    "       'JobLevel', 'JobRole', 'JobSatisfaction', 'MaritalStatus',\n",
    "       'MonthlyIncome', 'MonthlyRate', 'NumCompaniesWorked', 'OverTime',\n",
    "       'PercentSalaryHike', 'PerformanceRating', 'RelationshipSatisfaction',\n",
    "       'StockOptionLevel', 'TotalWorkingYears', 'TrainingTimesLastYear',\n",
    "       'WorkLifeBalance', 'YearsAtCompany', 'YearsInCurrentRole',\n",
    "       'YearsSinceLastPromotion', 'YearsWithCurrManager'],\n",
    "      dtype='object')"
   ]
  },
  {
   "cell_type": "markdown",
   "id": "06c4339e",
   "metadata": {},
   "source": [
    "### 1.1 Data Description\n",
    "- Age: Age of the employee.\n",
    "- Attrition: Target variable. Indicates wether the employee left (1) or stayed (0)\n",
    "- BusinessTravel: Ferquency of travel. Values: Travel_Rarely', 'Travel_Frequently', 'Non-Travel'\n",
    "- DailyRate: Daily salary\n",
    "- Department: Department the employee belong to. Values: 'Sales', 'Research & Development', 'Human Resources'\n",
    "- DistanceFromHome: Distance from home to the office/working place.\n",
    "- Education: Level of education. Values: 1'Below College',2'College',3 'Bachelor',4 'Master',5 'Doctor'\n",
    "- Education Field: field of education. Values: 'Life Sciences', 'Other', 'Medical', 'Marketing','Technical Degree', 'Human Resources'\n",
    "- EmployeeCount: number of employees in the company.\n",
    "- EmployeeNumber: internal company employee id.\n",
    "- Environment Satisfaction: index of satisfaction with the comapny environment. Values: 1 'Low', 2 'Medium',3 'High',4 'Very High'\n",
    "- Gender: Female/Male\n",
    "- HourlyRate: Houly salary rate\n",
    "- JobInvolvement: psychological and emotional extent to which someone participates in his/her work, profession, and company. Values:1 'Low',2 'Medium',3 'High',4 'Very High'\n",
    "- JobLevel: job level from less level (1) to higher level (5)\n",
    "- JobRole: job role. Values: 'Sales Executive', 'Research Scientist', 'Laboratory Technician','Manufacturing Director', 'Healthcare Representative', 'Manager','Sales Representative', 'Research Director', 'Human Resources'\n",
    "- JobSatisfaction: job satisfaction. Values: 1 'Low',2 'Medium',3 'High',4 'Very High'\n",
    "- MaritalStatus: marital status. Values: 'Single', 'Married', 'Divorced'\n",
    "- MonthlyIncome: monthly income of the employee.\n",
    "- MonthlyRate: monthly salary of the employee.\n",
    "- NumCompaniesWorked:number of companies that the employee has worked.\n",
    "- Over18: indicates if the employer is older tahn 18 or not.\n",
    "- OverTime: indicates if the mployee works overtime or not.\n",
    "- PercentSalaryHike: percentage of salary increase.\n",
    "- PerformanceRating: performance rating. Values: 1 'Low',2 'Good',3 'Excellent',4 'Outstanding'\n",
    "- RelationshipSatisfaction: Degree of satisfaction with manager/other employees? values: 1 'Low',2 'Medium',3 'High',4 'Very High'\n",
    "- StandardHours: number of hours worked.\n",
    "- StockOptionLevel: option to company stock options as part of the compensation package.\n",
    "- TotalWorkingYears: number of years worked for the company.\n",
    "- TrainingTimesLastYear: how many times the employee received training during last year.\n",
    "- WorkLifeBalance: degree of work-life balance. Values: 1 'Bad',2 'Good',3 'Better',4 'Best'\n",
    "- YearsAtCompany: number of years working in the company.\n",
    "- YearsInCurrentRole: number of years in current role.\n",
    "- YearsSinceLastPromotion: number of years since last promotion.\n",
    "- YearsWithCurrManager: number of years with current manager."
   ]
  },
  {
   "cell_type": "markdown",
   "id": "cacf7e08",
   "metadata": {},
   "source": [
    "### 1.2 Initial Intuitions\n",
    "Before proceding with the analysis itself, we can make some supositions based just on our judgment, and try to identify which variables contribute to reduce the attrition and which ones increase it.\n",
    "\n",
    "Variables that we expect to reduce the employee attrition:\n",
    "\n",
    "- 'HourlyRate','DailyRate', 'MonthlyIncome', 'MonthlyRate': for all this salary related variables, we can expect the employees with higher salaries to have a lower rate of attrition.\n",
    "- 'PercentSalaryHike': those employees that have speculate had a salary increase probably present a lower rate of attrition\n",
    "- 'TotalWorkingYears': Usually, mobility among employeers less working years who are starting their careers tends to be higher\n",
    "-'EnvironmentSatisfaction', 'WorkLifeBalance','JobSatisfaction', 'JobInvolvement','RelationshipSatisfaction': All this variables looks like straighforward. The higher the satisfaction with working conditions, the lesser the reason to leave the company.\n",
    "- 'PerformanceRating': Seems reasonable to expect that those employees with higher performance rating usually stay ath the company.\n",
    "- 'JobLevel': Probably more senior workers present a lower rate of attrition.\n",
    "- 'StockOptionLevel': Employees with this benefit will tend to stay more in the company.\n",
    "- 'TrainingTimesLastYear': This variable means that the company is investing in their employees. Possibily employees with more trainings are more satisfied and tend to stay longer.\n",
    "- 'YearsAtCompany','YearsInCurrentRole': employees with more years at the company probably will have less rate of attrition. Years in current role can actually go both ways. Longer time in a role could mean that the employee is satisfied with his/her current role. On the other side, could mean that there is no possibility for a promotion.\n",
    "\n",
    "    Variables that we expect to increase the employee attrition:\n",
    "\n",
    "- 'NumCompaniesWorked': An employeer that has a high number of companies work for means that usually changes his/her job.\n",
    "- 'DistanceFromHome': The longer distance the worst commute, which might impact the satisfaction, work life balance.\n",
    "- 'OverTime': No need to comment this one, right?\n",
    "- 'YearsSinceLastPromotion': longer takes to get a promotion, higher attrition.\n",
    "- 'BusinessTravel': probably those emmployees that travel more frequently have a higher level of attrition."
   ]
  }
 ],
 "metadata": {
  "kernelspec": {
   "display_name": "Python 3",
   "language": "python",
   "name": "python3"
  },
  "language_info": {
   "codemirror_mode": {
    "name": "ipython",
    "version": 3
   },
   "file_extension": ".py",
   "mimetype": "text/x-python",
   "name": "python",
   "nbconvert_exporter": "python",
   "pygments_lexer": "ipython3",
   "version": "3.6.10"
  }
 },
 "nbformat": 4,
 "nbformat_minor": 5
}
