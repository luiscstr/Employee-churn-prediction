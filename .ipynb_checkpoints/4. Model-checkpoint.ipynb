{
 "cells": [
  {
   "cell_type": "code",
   "execution_count": null,
   "id": "944021a4",
   "metadata": {},
   "outputs": [],
   "source": [
    "#Importing libraries\n",
    "import pandas as pd\n",
    "import numpy as np\n",
    "import seaborn as sns\n",
    "import matplotlib.pyplot as plt\n",
    "from sklearn.preprocessing import OneHotEncoder,MinMaxScaler\n",
    "from sklearn.model_selection import train_test_split,StratifiedShuffleSplit,cross_val_score,cross_val_predict,KFold, StratifiedKFold,GridSearchCV,RandomizedSearchCV\n",
    "from sklearn.compose import ColumnTransformer\n",
    "from sklearn.linear_model import LogisticRegression\n",
    "from sklearn.metrics import accuracy_score,confusion_matrix, classification_report, precision_recall_curve\n",
    "from sklearn.ensemble import RandomForestClassifier\n",
    "from imblearn.over_sampling import SMOTE,ADASYN,RandomOverSampler,BorderlineSMOTE,SVMSMOTE,SMOTENC\n",
    "from imblearn.under_sampling import RandomUnderSampler,TomekLinks\n",
    "from imblearn.combine import SMOTETomek,SMOTEENN\n",
    "from imblearn.pipeline import Pipeline\n",
    "from xgboost import XGBClassifier\n",
    "import tensorflow as tf\n",
    "from tensorflow import keras\n",
    "import warnings\n",
    "import sklearn.exceptions\n",
    "warnings.filterwarnings(\"ignore\", category=sklearn.exceptions.UndefinedMetricWarning)"
   ]
  },
  {
   "cell_type": "code",
   "execution_count": null,
   "id": "53d2f465",
   "metadata": {},
   "outputs": [],
   "source": []
  },
  {
   "cell_type": "code",
   "execution_count": null,
   "id": "8d15a92e",
   "metadata": {},
   "outputs": [],
   "source": []
  },
  {
   "cell_type": "code",
   "execution_count": null,
   "id": "fd384ef6",
   "metadata": {},
   "outputs": [],
   "source": []
  },
  {
   "cell_type": "code",
   "execution_count": null,
   "id": "0e7e4458",
   "metadata": {},
   "outputs": [],
   "source": [
    "## 4. MODEL"
   ]
  },
  {
   "cell_type": "code",
   "execution_count": null,
   "id": "95e91b33",
   "metadata": {},
   "outputs": [],
   "source": [
    "### 4.1 Logistic Classifier"
   ]
  },
  {
   "cell_type": "code",
   "execution_count": null,
   "id": "02afb6ca",
   "metadata": {},
   "outputs": [],
   "source": [
    "logreg=LogisticRegression(solver='lbfgs')"
   ]
  },
  {
   "cell_type": "code",
   "execution_count": null,
   "id": "0578bb18",
   "metadata": {},
   "outputs": [],
   "source": [
    "scores=cross_val_score(logreg,X_train,y_train,scoring='accuracy',cv=5)\n",
    "print('Accuracy {:.2f} %'.format(100*scores.mean()))"
   ]
  },
  {
   "cell_type": "code",
   "execution_count": null,
   "id": "7ec8ed41",
   "metadata": {},
   "outputs": [],
   "source": [
    "y_pred=cross_val_predict(logreg, X_train, y_train, cv=5)"
   ]
  },
  {
   "cell_type": "code",
   "execution_count": null,
   "id": "c905cd53",
   "metadata": {},
   "outputs": [],
   "source": [
    "cm=confusion_matrix(y_train,y_pred)\n",
    "sns.heatmap(cm,annot=True)"
   ]
  },
  {
   "cell_type": "code",
   "execution_count": null,
   "id": "9aef0e52",
   "metadata": {},
   "outputs": [],
   "source": [
    "print(classification_report(y_train,y_pred))"
   ]
  },
  {
   "cell_type": "markdown",
   "id": "93981e4d",
   "metadata": {},
   "source": [
    "Acceptable precission 78% for attrition (class 1) which means that when the model identifies a postitive , in 78% of the cases it will be right (low rate of false positives). However the recall is low, only 37%, which means that the model is only able to identify correctly 37% of the employees that leave (high rate of false negatives). Let's take a look to the precision-recall curve:"
   ]
  },
  {
   "cell_type": "code",
   "execution_count": null,
   "id": "bd6f8489",
   "metadata": {},
   "outputs": [],
   "source": [
    "y_proba = cross_val_predict(logreg, X_train, y_train, cv=5, method='predict_proba')"
   ]
  },
  {
   "cell_type": "code",
   "execution_count": null,
   "id": "59e6c740",
   "metadata": {},
   "outputs": [],
   "source": [
    "precisions,recalls,thresholds=precision_recall_curve(y_train,y_proba[:,1])"
   ]
  },
  {
   "cell_type": "code",
   "execution_count": null,
   "id": "581d6292",
   "metadata": {},
   "outputs": [],
   "source": [
    "plt.plot(thresholds,precisions[:-1],'b--',label='Precision')\n",
    "plt.plot(thresholds,recalls[:-1],'g-',label='Recall')\n",
    "plt.plot([0, 0.5], [0.37, 0.37],\"r:\")                               \n",
    "plt.plot([0, 0.5], [0.78, 0.78],\"r:\")\n",
    "plt.plot([0.5,0.5], [0, 0.78],\"r:\")\n",
    "plt.plot([0.5], [0.37], \"ro\")                                            \n",
    "plt.plot([0.5], [0.78], \"ro\")  \n",
    "plt.legend()\n",
    "plt.title('Precision-Recall vs decision threshold')\n",
    "plt.xlim(xmin=0) \n",
    "plt.ylim(ymin=0) \n",
    "plt.grid(which='both')\n",
    "plt.show()"
   ]
  },
  {
   "cell_type": "code",
   "execution_count": null,
   "id": "2deb6a1f",
   "metadata": {},
   "outputs": [],
   "source": [
    "#Precision recall curve\n",
    "plt.plot(recalls,precisions,'b--')\n",
    "plt.title('Precision-Recall curve')\n",
    "plt.ylabel('Precision')\n",
    "plt.xlabel('Recall')\n",
    "plt.xlim(xmin=0) \n",
    "plt.ylim(ymin=0) "
   ]
  },
  {
   "cell_type": "markdown",
   "id": "70d8127d",
   "metadata": {},
   "source": [
    "The Precision-Recall curve ilustrates perfectly the precision/recall trade off. We can see that the precission starts to fall sharply around a 20% recall and if we want to obtain a recall of 50%, the precission will fall to a value of aroung 60%.\n",
    "\n",
    "We can tweak the precision and recall of the classifier, by modifyig the threshold of 0.5 used to decide the class (attrition in this case). For example, let's see what happens if we set a threshold of 0.4 and a threshold of 0.2:"
   ]
  },
  {
   "cell_type": "code",
   "execution_count": null,
   "id": "e31594c6",
   "metadata": {},
   "outputs": [],
   "source": [
    "y_pred_04=(y_proba[:,1]>0.4).astype(int)\n",
    "y_pred_02=(y_proba[:,1]>0.2).astype(int)"
   ]
  },
  {
   "cell_type": "code",
   "execution_count": null,
   "id": "ee948934",
   "metadata": {},
   "outputs": [],
   "source": [
    "print(classification_report(y_train,y_pred_04))\n",
    "print(classification_report(y_train,y_pred_02))"
   ]
  },
  {
   "cell_type": "markdown",
   "id": "c9e62b41",
   "metadata": {},
   "source": [
    "We could ask HR department what is they preference:\n",
    "\n",
    "- to be more certain that the employees classified as 'leavers' by the model are more likely to leave but accepting that there are many 'leavers' 'leaver' employees  that have not been classified as such( high precision and low recall). In other words, less employers are classified as leavers but higher percentage ot them are true \"leavers\" (less false positives at the expense of having more false negatives).\n",
    "- to be more certain that the classifier is not missing employees that are more likely to leave at the expense of not being able to identify which of them are true \"leavers\" (low precision and high recall). In other words, more employees are classified as 'leavers' but a higher percentage of them are not true 'leavers' (less false negatives but more false positives)"
   ]
  },
  {
   "cell_type": "markdown",
   "id": "587f80b3",
   "metadata": {},
   "source": [
    "To try to improve the results, we next will tune the hyperparameters of the classifier by performing a Gridsearch. We will use several scores and refit for both AUC and f1 scores:"
   ]
  },
  {
   "cell_type": "code",
   "execution_count": null,
   "id": "e6426d43",
   "metadata": {},
   "outputs": [],
   "source": [
    "#Gridsearch AUC\n",
    "#Need to create a training set for tuning the model parameters and a validation set to evaluate the tunned model\n",
    "X_train['Attrition']=y_train\n",
    "\n",
    "split=StratifiedShuffleSplit(n_splits=1,test_size=0.2,random_state=42)\n",
    "\n",
    "for train_index,val_index in split.split(X_train,X_train['Attrition']):\n",
    "    train_grid=X_train.loc[train_index]\n",
    "    val_grid=X_train.loc[val_index]\n",
    "\n",
    "y_train_grid=train_grid['Attrition']\n",
    "X_train_grid=train_grid\n",
    "X_train_grid.drop('Attrition',inplace=True,axis=1)\n",
    "y_val_grid=val_grid['Attrition']\n",
    "X_val_grid=val_grid\n",
    "X_val_grid.drop('Attrition',inplace=True,axis=1)"
   ]
  },
  {
   "cell_type": "code",
   "execution_count": null,
   "id": "51201ed9",
   "metadata": {},
   "outputs": [],
   "source": [
    "scoring = {'AUC': 'roc_auc', 'Precision': 'precision', 'Recall':'recall','Accuracy':'accuracy','f1':'f1'}\n",
    "params = {'solver':['liblinear'],'penalty': ['l1', 'l2', ],'C': [0.001,0.01,0.1,1,10,100]}\n",
    "kf = StratifiedKFold(n_splits=5,shuffle=True,random_state=42) \n",
    "\n",
    "grid_logreg_auc = GridSearchCV(logreg, params, cv=kf,scoring=scoring,return_train_score='True',refit='AUC')\n",
    "grid_logreg_auc.fit(X_train_grid,y_train_grid)"
   ]
  },
  {
   "cell_type": "code",
   "execution_count": null,
   "id": "29a0d58e",
   "metadata": {},
   "outputs": [],
   "source": [
    "grid_logreg_auc.best_params_"
   ]
  },
  {
   "cell_type": "code",
   "execution_count": null,
   "id": "7994bcc5",
   "metadata": {},
   "outputs": [],
   "source": [
    "y_val_grid_pred=grid_logreg_auc.predict(X_val_grid)"
   ]
  },
  {
   "cell_type": "code",
   "execution_count": null,
   "id": "85ec8433",
   "metadata": {},
   "outputs": [],
   "source": [
    "cm=confusion_matrix(y_val_grid,y_val_grid_pred)\n",
    "sns.heatmap(cm,annot=True)"
   ]
  },
  {
   "cell_type": "code",
   "execution_count": null,
   "id": "45a1ddb7",
   "metadata": {},
   "outputs": [],
   "source": [
    "print(classification_report(y_val_grid,y_val_grid_pred))"
   ]
  },
  {
   "cell_type": "code",
   "execution_count": null,
   "id": "19b5c688",
   "metadata": {},
   "outputs": [],
   "source": [
    "#GridSearch f1\n",
    "scoring = {'AUC': 'roc_auc', 'Precision': 'precision', 'Recall':'recall','Accuracy':'accuracy','f1':'f1'}\n",
    "params = {'solver':['liblinear'],'penalty': ['l1', 'l2', ],'C': [0.001,0.01,0.1,1,10,100]}\n",
    "kf = StratifiedKFold(n_splits=5,shuffle=True,random_state=42) \n",
    "\n",
    "grid = GridSearchCV(logreg, params, cv=kf,scoring=scoring,return_train_score='True',refit='f1')\n",
    "grid.fit(X_train_grid,y_train_grid)\n",
    "y_val_grid_pred=grid.predict(X_val_grid)\n",
    "print(classification_report(y_val_grid,y_val_grid_pred))"
   ]
  },
  {
   "cell_type": "markdown",
   "id": "eb062d76",
   "metadata": {},
   "source": [
    "Lastly, before moving onto a different classifier, we can explore some ampling techniques. In particular, we will try Randon Over Sampling, Synthetic Minority Oversampling Technique (SMOTE) and SMOTE Tomek."
   ]
  },
  {
   "cell_type": "code",
   "execution_count": null,
   "id": "509b2455",
   "metadata": {},
   "outputs": [],
   "source": [
    "##Random Over Sampling\n",
    "ros=RandomOverSampler(random_state=2,sampling_strategy='minority')\n",
    "sm = SMOTE(random_state=2)\n",
    "##Synthetic Minority Oversampling Technique (SMOTE)\n",
    "#Combining over- and under-sampling.\n",
    "#SMOTE Tomek\n",
    "smt = SMOTETomek(ratio='auto')"
   ]
  },
  {
   "cell_type": "code",
   "execution_count": null,
   "id": "5578bb6c",
   "metadata": {},
   "outputs": [],
   "source": [
    "ros = RandomOverSampler(random_state=2,sampling_strategy='minority')\n",
    "steps = [('ros', ros), ('model', logreg)]\n",
    "pipeline = Pipeline(steps=steps)\n",
    "y_pred_ros=cross_val_predict(pipeline, X_train, y_train, cv=5)\n",
    "print(classification_report(y_train,y_pred_ros))"
   ]
  },
  {
   "cell_type": "code",
   "execution_count": null,
   "id": "d3fc2fce",
   "metadata": {},
   "outputs": [],
   "source": [
    "sm = SMOTE(random_state=2)\n",
    "steps = [('SMOTE', sm), ('model', logreg)]\n",
    "pipeline = Pipeline(steps=steps)\n",
    "y_pred_sm=cross_val_predict(pipeline, X_train, y_train, cv=5)\n",
    "print(classification_report(y_train,y_pred_sm))"
   ]
  },
  {
   "cell_type": "code",
   "execution_count": null,
   "id": "0fdbdd4f",
   "metadata": {},
   "outputs": [],
   "source": [
    "sm = SMOTETomek(ratio='auto')\n",
    "steps = [('SMOTETomek', smt), ('model', logreg)]\n",
    "pipeline = Pipeline(steps=steps)\n",
    "y_pred_smt=cross_val_predict(pipeline, X_train, y_train, cv=5)\n",
    "print(classification_report(y_train,y_pred_smt))"
   ]
  },
  {
   "cell_type": "markdown",
   "id": "90c2c45c",
   "metadata": {},
   "source": [
    "By oversampling, we are able to increase the recall of the minority class. However, the precision is penalized and we are not able to improve the overall performance. We stay better by keeping the model with the hyperparameters tunned."
   ]
  },
  {
   "cell_type": "markdown",
   "id": "fcd0359b",
   "metadata": {},
   "source": [
    "In the classification report we can see how both the precision and recall have increased, achieving the best results so far. Last step is to apply this last model to the test set."
   ]
  },
  {
   "cell_type": "markdown",
   "id": "ae04de30",
   "metadata": {},
   "source": [
    "### 4.2. Random Forest"
   ]
  },
  {
   "cell_type": "code",
   "execution_count": null,
   "id": "7409a6e7",
   "metadata": {},
   "outputs": [],
   "source": [
    "RFC=RandomForestClassifier(n_estimators=100)\n",
    "scores=cross_val_score(RFC,X_train,y_train,scoring='accuracy',cv=5)\n",
    "print('Accuracy {:.2f} %'.format(100*scores.mean()))"
   ]
  },
  {
   "cell_type": "code",
   "execution_count": null,
   "id": "b723c4ac",
   "metadata": {},
   "outputs": [],
   "source": [
    "y_pred=cross_val_predict(RFC, X_train, y_train, cv=5)\n",
    "cm=confusion_matrix(y_train,y_pred)\n",
    "sns.heatmap(cm,annot=True)"
   ]
  },
  {
   "cell_type": "code",
   "execution_count": null,
   "id": "97af7cf7",
   "metadata": {},
   "outputs": [],
   "source": [
    "print(classification_report(y_train,y_pred))"
   ]
  },
  {
   "cell_type": "code",
   "execution_count": null,
   "id": "2fb8ac49",
   "metadata": {},
   "outputs": [],
   "source": []
  },
  {
   "cell_type": "code",
   "execution_count": null,
   "id": "551bf1f8",
   "metadata": {},
   "outputs": [],
   "source": []
  },
  {
   "cell_type": "code",
   "execution_count": null,
   "id": "157f9239",
   "metadata": {},
   "outputs": [],
   "source": []
  },
  {
   "cell_type": "code",
   "execution_count": null,
   "id": "2e99e222",
   "metadata": {},
   "outputs": [],
   "source": []
  },
  {
   "cell_type": "code",
   "execution_count": null,
   "id": "4070210b",
   "metadata": {},
   "outputs": [],
   "source": []
  },
  {
   "cell_type": "code",
   "execution_count": null,
   "id": "2b91f020",
   "metadata": {},
   "outputs": [],
   "source": []
  }
 ],
 "metadata": {
  "kernelspec": {
   "display_name": "Python 3",
   "language": "python",
   "name": "python3"
  },
  "language_info": {
   "codemirror_mode": {
    "name": "ipython",
    "version": 3
   },
   "file_extension": ".py",
   "mimetype": "text/x-python",
   "name": "python",
   "nbconvert_exporter": "python",
   "pygments_lexer": "ipython3",
   "version": "3.6.10"
  }
 },
 "nbformat": 4,
 "nbformat_minor": 5
}
